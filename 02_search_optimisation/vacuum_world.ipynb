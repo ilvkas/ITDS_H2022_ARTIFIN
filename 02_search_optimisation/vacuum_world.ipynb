{
  "cells": [
    {
      "cell_type": "markdown",
      "metadata": {
        "id": "lTef1HZqehcn"
      },
      "source": [
        "# THE VACUUM WORLD   \n",
        "\n",
        "In this notebook, we will be discussing **the structure of agents** through an example of the **vacuum agent**. The job of AI is to design an **agent program** that implements the agent function: the mapping from percepts to actions. We assume this program will run on some sort of computing device with physical sensors and actuators: we call this the **architecture**:\n",
        "\n",
        "<h3 align=\"center\">agent = architecture + program</h3>"
      ]
    },
    {
      "cell_type": "markdown",
      "metadata": {
        "id": "FeKJOiFLehcp"
      },
      "source": [
        "## Contents\n",
        "\n",
        "* Agent\n",
        "* Random Agent Program\n",
        "* Table-Driven Agent Program\n",
        "* Simple Reflex Agent Program\n",
        "* Model-Based Reflex Agent Program\n",
        "* Goal-Based Agent Program\n",
        "* Utility-Based Agent Program\n",
        "* Learning Agent"
      ]
    },
    {
      "cell_type": "markdown",
      "metadata": {
        "id": "TqSokmZlehcq"
      },
      "source": [
        "## Agent Programs\n",
        "\n",
        "An agent program takes the current percept as input from the sensors and returns an action to the actuators. There is a difference between an agent program and an agent function: an agent program takes the current percept as input whereas an agent function takes the entire percept history.\n",
        "\n",
        "The agent program takes just the current percept as input because nothing more is available from the environment; if the agent's actions depend on the entire percept sequence, the agent will have to remember the percept.\n",
        "\n",
        "We'll discuss the following agent programs here with the help of the vacuum world example:\n",
        "\n",
        "* Random Agent Program\n",
        "* Table-Driven Agent Program\n",
        "* Simple Reflex Agent Program\n",
        "* Model-Based Reflex Agent Program\n",
        "* Goal-Based Agent Program\n",
        "* Utility-Based Agent Program"
      ]
    },
    {
      "cell_type": "markdown",
      "metadata": {
        "id": "ZZGcmzbOehcq"
      },
      "source": [
        "## Random Agent Program\n",
        "\n",
        "A random agent program, as the name suggests, chooses an action at random, without taking into account the percepts.   \n",
        "Here, we will demonstrate a random vacuum agent for a trivial vacuum environment, that is, the two-state environment."
      ]
    },
    {
      "cell_type": "markdown",
      "metadata": {
        "id": "q0yX_0q1ehcr"
      },
      "source": [
        "Let's begin by importing all the functions from the agents module:"
      ]
    },
    {
      "cell_type": "code",
      "source": [
        "import numpy as np\n",
        "import random\n",
        "import copy\n",
        "import collections\n",
        "import numbers"
      ],
      "metadata": {
        "id": "JOWjrIndfbSf"
      },
      "execution_count": null,
      "outputs": []
    },
    {
      "cell_type": "markdown",
      "metadata": {
        "id": "wGssuC6Wehct"
      },
      "source": [
        "Let us first see how we define the TrivialVacuumEnvironment. Run the next cell to see how abstract class TrivialVacuumEnvironment is defined in agents module:"
      ]
    },
    {
      "cell_type": "code",
      "source": [
        "class Thing:\n",
        "    \"\"\"This represents any physical object that can appear in an Environment.\n",
        "    You subclass Thing to get the things you want. Each thing can have a\n",
        "    .__name__  slot (used for output only).\"\"\"\n",
        "\n",
        "    def __repr__(self):\n",
        "        return '<{}>'.format(getattr(self, '__name__', self.__class__.__name__))\n",
        "\n",
        "    def is_alive(self):\n",
        "        \"\"\"Things that are 'alive' should return true.\"\"\"\n",
        "        return hasattr(self, 'alive') and self.alive\n",
        "\n",
        "    def show_state(self):\n",
        "        \"\"\"Display the agent's internal state. Subclasses should override.\"\"\"\n",
        "        print(\"I don't know how to show_state.\")\n",
        "\n",
        "    def display(self, canvas, x, y, width, height):\n",
        "        \"\"\"Display an image of this Thing on the canvas.\"\"\"\n",
        "        # Do we need this?\n",
        "        pass\n"
      ],
      "metadata": {
        "id": "HJJJKFpqfktB"
      },
      "execution_count": null,
      "outputs": []
    },
    {
      "cell_type": "markdown",
      "source": [
        "An **Agent** is a subclass of Thing with one required instance attribute \n",
        "(aka slot), .program, which should hold a function that takes one argument,\n",
        "the percept, and returns an action. (What counts as a percept or action \n",
        "will depend on the specific environment in which the agent exists.)\n",
        "Note that 'program' is a slot, not a method. If it were a method, then the\n",
        "program could 'cheat' and look at aspects of the agent. It's not supposed\n",
        "to do that: the program can only look at the percepts. An agent program\n",
        "that needs a model of the world (and of the agent itself) will have to\n",
        "build and maintain its own model. There is an optional slot, .performance,\n",
        "which is a number giving the performance measure of the agent in its\n",
        "environment."
      ],
      "metadata": {
        "id": "M9AsYs6yg4lK"
      }
    },
    {
      "cell_type": "code",
      "source": [
        "class Agent(Thing):\n",
        "    def __init__(self, program=None):\n",
        "        self.alive = True\n",
        "        self.bump = False\n",
        "        self.holding = []\n",
        "        self.performance = 0\n",
        "        if program is None or not isinstance(program, collections.abc.Callable):\n",
        "            print(\"Can't find a valid program for {}, falling back to default.\".format(self.__class__.__name__))\n",
        "\n",
        "            def program(percept):\n",
        "                return eval(input('Percept={}; action? '.format(percept)))\n",
        "\n",
        "        self.program = program\n",
        "\n",
        "    def can_grab(self, thing):\n",
        "        \"\"\"Return True if this agent can grab this thing.\n",
        "        Override for appropriate subclasses of Agent and Thing.\"\"\"\n",
        "        return False"
      ],
      "metadata": {
        "id": "9Skuw4sBf3On"
      },
      "execution_count": null,
      "outputs": []
    },
    {
      "cell_type": "markdown",
      "source": [
        "The code below exemplifies the representation of an Environment by usins an abstract class. 'Real' Environment classes inherit from this. The Environment will typically need to implement:\n",
        "        \n",
        "*   percept:           Define the percept that an agent sees.\n",
        "*   execute_action:    Define the effects of executing an action. Also update the agent.performance slot.\n",
        "\n",
        "The environment keeps a list of .things and .agents (which is a subset of .things). Each agent has a .performance slot, initialized to 0. Each thing has a .location slot, even though some environments may not need this."
      ],
      "metadata": {
        "id": "rLbCvvplhfdL"
      }
    },
    {
      "cell_type": "code",
      "source": [
        "class Environment:\n",
        "\n",
        "    def __init__(self):\n",
        "        self.things = []\n",
        "        self.agents = []\n",
        "\n",
        "    def thing_classes(self):\n",
        "        return []  # List of classes that can go into environment\n",
        "\n",
        "    def percept(self, agent):\n",
        "        \"\"\"Return the percept that the agent sees at this point. (Implement this.)\"\"\"\n",
        "        raise NotImplementedError\n",
        "\n",
        "    def execute_action(self, agent, action):\n",
        "        \"\"\"Change the world to reflect this action. (Implement this.)\"\"\"\n",
        "        raise NotImplementedError\n",
        "\n",
        "    def default_location(self, thing):\n",
        "        \"\"\"Default location to place a new thing with unspecified location.\"\"\"\n",
        "        return None\n",
        "\n",
        "    def exogenous_change(self):\n",
        "        \"\"\"If there is spontaneous change in the world, override this.\"\"\"\n",
        "        pass\n",
        "\n",
        "    def is_done(self):\n",
        "        \"\"\"By default, we're done when we can't find a live agent.\"\"\"\n",
        "        return not any(agent.is_alive() for agent in self.agents)\n",
        "\n",
        "    def step(self):\n",
        "        \"\"\"Run the environment for one time step. If the\n",
        "        actions and exogenous changes are independent, this method will\n",
        "        do. If there are interactions between them, you'll need to\n",
        "        override this method.\"\"\"\n",
        "        if not self.is_done():\n",
        "            actions = []\n",
        "            for agent in self.agents:\n",
        "                if agent.alive:\n",
        "                    actions.append(agent.program(self.percept(agent)))\n",
        "                else:\n",
        "                    actions.append(\"\")\n",
        "            for (agent, action) in zip(self.agents, actions):\n",
        "                self.execute_action(agent, action)\n",
        "            self.exogenous_change()\n",
        "\n",
        "    def run(self, steps=1000):\n",
        "        \"\"\"Run the Environment for given number of time steps.\"\"\"\n",
        "        for step in range(steps):\n",
        "            if self.is_done():\n",
        "                return\n",
        "            self.step()\n",
        "\n",
        "    def list_things_at(self, location, tclass=Thing):\n",
        "        \"\"\"Return all things exactly at a given location.\"\"\"\n",
        "        if isinstance(location, numbers.Number):\n",
        "            return [thing for thing in self.things\n",
        "                    if thing.location == location and isinstance(thing, tclass)]\n",
        "        return [thing for thing in self.things\n",
        "                if all(x == y for x, y in zip(thing.location, location)) and isinstance(thing, tclass)]\n",
        "\n",
        "    def some_things_at(self, location, tclass=Thing):\n",
        "        \"\"\"Return true if at least one of the things at location\n",
        "        is an instance of class tclass (or a subclass).\"\"\"\n",
        "        return self.list_things_at(location, tclass) != []\n",
        "\n",
        "    def add_thing(self, thing, location=None):\n",
        "        \"\"\"Add a thing to the environment, setting its location. For\n",
        "        convenience, if thing is an agent program we make a new agent\n",
        "        for it. (Shouldn't need to override this.)\"\"\"\n",
        "        if not isinstance(thing, Thing):\n",
        "            thing = Agent(thing)\n",
        "        if thing in self.things:\n",
        "            print(\"Can't add the same thing twice\")\n",
        "        else:\n",
        "            thing.location = location if location is not None else self.default_location(thing)\n",
        "            self.things.append(thing)\n",
        "            if isinstance(thing, Agent):\n",
        "                thing.performance = 0\n",
        "                self.agents.append(thing)\n",
        "\n",
        "    def delete_thing(self, thing):\n",
        "        \"\"\"Remove a thing from the environment.\"\"\"\n",
        "        try:\n",
        "            self.things.remove(thing)\n",
        "        except ValueError as e:\n",
        "            print(e)\n",
        "            print(\"  in Environment delete_thing\")\n",
        "            print(\"  Thing to be removed: {} at {}\".format(thing, thing.location))\n",
        "            print(\"  from list: {}\".format([(thing, thing.location) for thing in self.things]))\n",
        "        if thing in self.agents:\n",
        "            self.agents.remove(thing)\n"
      ],
      "metadata": {
        "id": "vkFlh9ZrfZiD"
      },
      "execution_count": null,
      "outputs": []
    },
    {
      "cell_type": "code",
      "source": [
        "class TrivialVacuumEnvironment(Environment):\n",
        "    \"\"\"This environment has two locations, A and B. Each can be Dirty\n",
        "    or Clean. The agent perceives its location and the location's\n",
        "    status. This serves as an example of how to implement a simple\n",
        "    Environment.\"\"\"\n",
        "\n",
        "    def __init__(self):\n",
        "        super().__init__()\n",
        "        self.status = {loc_A: random.choice(['Clean', 'Dirty']),\n",
        "                       loc_B: random.choice(['Clean', 'Dirty'])}\n",
        "\n",
        "    def thing_classes(self):\n",
        "        return [Wall, Dirt, ReflexVacuumAgent, RandomVacuumAgent, TableDrivenVacuumAgent, ModelBasedVacuumAgent]\n",
        "\n",
        "    def percept(self, agent):\n",
        "        \"\"\"Returns the agent's location, and the location status (Dirty/Clean).\"\"\"\n",
        "        return agent.location, self.status[agent.location]\n",
        "\n",
        "    def execute_action(self, agent, action):\n",
        "        \"\"\"Change agent's location and/or location's status; track performance.\n",
        "        Score 10 for each dirt cleaned; -1 for each move.\"\"\"\n",
        "        if action == 'Right':\n",
        "            agent.location = loc_B\n",
        "            agent.performance -= 1\n",
        "        elif action == 'Left':\n",
        "            agent.location = loc_A\n",
        "            agent.performance -= 1\n",
        "        elif action == 'Suck':\n",
        "            if self.status[agent.location] == 'Dirty':\n",
        "                agent.performance += 10\n",
        "            self.status[agent.location] = 'Clean'\n",
        "\n",
        "    def default_location(self, thing):\n",
        "        \"\"\"Agents start in either location at random.\"\"\"\n",
        "        return random.choice([loc_A, loc_B])\n"
      ],
      "metadata": {
        "id": "DWFwY9mofsjt"
      },
      "execution_count": null,
      "outputs": []
    },
    {
      "cell_type": "code",
      "execution_count": null,
      "metadata": {
        "colab": {
          "base_uri": "https://localhost:8080/"
        },
        "id": "uWL0XC1Vehcv",
        "outputId": "ea846b2f-c76e-43e5-c3ae-d2e13f5d9ebd"
      },
      "outputs": [
        {
          "output_type": "stream",
          "name": "stdout",
          "text": [
            "State of the Environment: {(0, 0): 'Clean', (1, 0): 'Clean'}.\n"
          ]
        }
      ],
      "source": [
        "# These are the two locations for the two-state environment\n",
        "loc_A, loc_B = (0, 0), (1, 0)\n",
        "\n",
        "# Initialize the two-state environment\n",
        "trivial_vacuum_env = TrivialVacuumEnvironment()\n",
        "\n",
        "# Check the initial state of the environment\n",
        "print(\"State of the Environment: {}.\".format(trivial_vacuum_env.status))"
      ]
    },
    {
      "cell_type": "markdown",
      "metadata": {
        "id": "O-cUgXJZehcv"
      },
      "source": [
        "Let's create our agent now. This agent will choose any of the actions from 'Right', 'Left', 'Suck' and 'NoOp' (No Operation) randomly."
      ]
    },
    {
      "cell_type": "code",
      "source": [
        "def RandomAgentProgram(actions):\n",
        "    \"\"\"An agent that chooses an action at random, ignoring all percepts.\n",
        "    >>> list = ['Right', 'Left', 'Suck', 'NoOp']\n",
        "    >>> program = RandomAgentProgram(list)\n",
        "    >>> agent = Agent(program)\n",
        "    >>> environment = TrivialVacuumEnvironment()\n",
        "    >>> environment.add_thing(agent)\n",
        "    >>> environment.run()\n",
        "    >>> environment.status == {(1, 0): 'Clean' , (0, 0): 'Clean'}\n",
        "    True\n",
        "    \"\"\"\n",
        "    return lambda percept: random.choice(actions)"
      ],
      "metadata": {
        "id": "SsVIkM6wggVw"
      },
      "execution_count": null,
      "outputs": []
    },
    {
      "cell_type": "code",
      "execution_count": null,
      "metadata": {
        "id": "ZDxkyLfDehcw"
      },
      "outputs": [],
      "source": [
        "# Create the random agent\n",
        "random_agent = Agent(program=RandomAgentProgram(['Right', 'Left', 'Suck', 'NoOp']))"
      ]
    },
    {
      "cell_type": "markdown",
      "metadata": {
        "id": "Hc1gzlC5ehcw"
      },
      "source": [
        "We will now add our agent to the environment."
      ]
    },
    {
      "cell_type": "code",
      "execution_count": null,
      "metadata": {
        "colab": {
          "base_uri": "https://localhost:8080/"
        },
        "id": "bqNp8S5Hehcw",
        "outputId": "9f8c1f37-5cc7-4b94-a049-6874f68568c6"
      },
      "outputs": [
        {
          "output_type": "stream",
          "name": "stdout",
          "text": [
            "RandomVacuumAgent is located at (0, 0).\n"
          ]
        }
      ],
      "source": [
        "# Add agent to the environment\n",
        "trivial_vacuum_env.add_thing(random_agent)\n",
        "\n",
        "print(\"RandomVacuumAgent is located at {}.\".format(random_agent.location))"
      ]
    },
    {
      "cell_type": "markdown",
      "metadata": {
        "id": "1erQ2Lyvehcx"
      },
      "source": [
        "Let's run our environment now."
      ]
    },
    {
      "cell_type": "code",
      "execution_count": null,
      "metadata": {
        "colab": {
          "base_uri": "https://localhost:8080/"
        },
        "id": "BxM2PCwcehcx",
        "outputId": "60d404fa-4290-491b-ce91-f32c632a5886"
      },
      "outputs": [
        {
          "output_type": "stream",
          "name": "stdout",
          "text": [
            "State of the Environment: {(0, 0): 'Clean', (1, 0): 'Clean'}.\n",
            "RandomVacuumAgent is located at (1, 0).\n"
          ]
        }
      ],
      "source": [
        "# Running the environment\n",
        "trivial_vacuum_env.step()\n",
        "\n",
        "# Check the current state of the environment\n",
        "print(\"State of the Environment: {}.\".format(trivial_vacuum_env.status))\n",
        "\n",
        "print(\"RandomVacuumAgent is located at {}.\".format(random_agent.location))"
      ]
    },
    {
      "cell_type": "markdown",
      "metadata": {
        "id": "lG61huXIehcy"
      },
      "source": [
        "## Table-drive Agent Program\n",
        "\n",
        "A table-driven agent program keeps track of the percept sequence and then uses it to index into a table of actions to decide what to do. The table represents explicitly the agent function that the agent program embodies.  \n",
        "In the two-state vacuum world, the table would consist of all the possible states of the agent."
      ]
    },
    {
      "cell_type": "code",
      "execution_count": null,
      "metadata": {
        "id": "YF1MmPILehcy"
      },
      "outputs": [],
      "source": [
        "table = {((loc_A, 'Clean'),): 'Right',\n",
        "             ((loc_A, 'Dirty'),): 'Suck',\n",
        "             ((loc_B, 'Clean'),): 'Left',\n",
        "             ((loc_B, 'Dirty'),): 'Suck',\n",
        "             ((loc_A, 'Dirty'), (loc_A, 'Clean')): 'Right',\n",
        "             ((loc_A, 'Clean'), (loc_B, 'Dirty')): 'Suck',\n",
        "             ((loc_B, 'Clean'), (loc_A, 'Dirty')): 'Suck',\n",
        "             ((loc_B, 'Dirty'), (loc_B, 'Clean')): 'Left',\n",
        "             ((loc_A, 'Dirty'), (loc_A, 'Clean'), (loc_B, 'Dirty')): 'Suck',\n",
        "             ((loc_B, 'Dirty'), (loc_B, 'Clean'), (loc_A, 'Dirty')): 'Suck'\n",
        "        }"
      ]
    },
    {
      "cell_type": "markdown",
      "metadata": {
        "id": "3w3hAZSqehcy"
      },
      "source": [
        "We will now create a table-driven agent program for our two-state environment."
      ]
    },
    {
      "cell_type": "code",
      "source": [
        "def TableDrivenAgentProgram(table):\n",
        "    \"\"\"\n",
        "    [Figure 2.7]\n",
        "    This agent selects an action based on the percept sequence.\n",
        "    It is practical only for tiny domains.\n",
        "    To customize it, provide as table a dictionary of all\n",
        "    {percept_sequence:action} pairs.\n",
        "    \"\"\"\n",
        "    percepts = []\n",
        "\n",
        "    def program(percept):\n",
        "        percepts.append(percept)\n",
        "        action = table.get(tuple(percepts))\n",
        "        return action\n",
        "\n",
        "    return program"
      ],
      "metadata": {
        "id": "7PGphM3TgoSp"
      },
      "execution_count": null,
      "outputs": []
    },
    {
      "cell_type": "code",
      "execution_count": null,
      "metadata": {
        "id": "KcYMvKFRehcz"
      },
      "outputs": [],
      "source": [
        "# Create a table-driven agent\n",
        "table_driven_agent = Agent(program=TableDrivenAgentProgram(table=table))"
      ]
    },
    {
      "cell_type": "markdown",
      "metadata": {
        "id": "90L1HE0sehcz"
      },
      "source": [
        "Since we are using the same environment, let's remove the previously added random agent from the environment to avoid confusion."
      ]
    },
    {
      "cell_type": "code",
      "execution_count": null,
      "metadata": {
        "id": "NK55P4arehcz"
      },
      "outputs": [],
      "source": [
        "trivial_vacuum_env.delete_thing(random_agent)"
      ]
    },
    {
      "cell_type": "code",
      "execution_count": null,
      "metadata": {
        "colab": {
          "base_uri": "https://localhost:8080/"
        },
        "id": "9wgxNXyNehcz",
        "outputId": "9b96a65a-d746-41f3-e626-c7d8d91a107a"
      },
      "outputs": [
        {
          "output_type": "stream",
          "name": "stdout",
          "text": [
            "TableDrivenVacuumAgent is located at (0, 0).\n"
          ]
        }
      ],
      "source": [
        "# Add the table-driven agent to the environment\n",
        "trivial_vacuum_env.add_thing(table_driven_agent)\n",
        "\n",
        "print(\"TableDrivenVacuumAgent is located at {}.\".format(table_driven_agent.location))"
      ]
    },
    {
      "cell_type": "code",
      "execution_count": null,
      "metadata": {
        "colab": {
          "base_uri": "https://localhost:8080/"
        },
        "id": "mANZcJgTehc0",
        "outputId": "b16171cf-8b03-4761-ef57-1d944da61004"
      },
      "outputs": [
        {
          "output_type": "stream",
          "name": "stdout",
          "text": [
            "State of the Environment: {(0, 0): 'Clean', (1, 0): 'Clean'}.\n",
            "TableDrivenVacuumAgent is located at (1, 0).\n"
          ]
        }
      ],
      "source": [
        "# Run the environment\n",
        "trivial_vacuum_env.step()\n",
        "\n",
        "# Check the current state of the environment\n",
        "print(\"State of the Environment: {}.\".format(trivial_vacuum_env.status))\n",
        "\n",
        "print(\"TableDrivenVacuumAgent is located at {}.\".format(table_driven_agent.location))"
      ]
    },
    {
      "cell_type": "markdown",
      "metadata": {
        "id": "NsWjyx8Gehc0"
      },
      "source": [
        "## Simple-reflex Agent Program\n",
        "\n",
        "A simple reflex agent program selects actions on the basis of the *current* percept, ignoring the rest of the percept history. These agents work on a **condition-action rule** (also called **situation-action rule**, **production** or **if-then rule**), which tells the agent the action to trigger when a particular situation is encountered.  \n",
        "\n",
        "The schematic diagram shown in **Figure 2.9** of the book will make this more clear:\n",
        "\n",
        "\"![simple reflex agent](images/simple_reflex_agent.jpg)\""
      ]
    },
    {
      "cell_type": "markdown",
      "metadata": {
        "id": "6UZ_4dwcehc0"
      },
      "source": [
        "Let us now create a simple reflex agent for the environment."
      ]
    },
    {
      "cell_type": "code",
      "execution_count": null,
      "metadata": {
        "id": "YOci0oMjehc0"
      },
      "outputs": [],
      "source": [
        "# Delete the previously added table-driven agent\n",
        "trivial_vacuum_env.delete_thing(table_driven_agent)"
      ]
    },
    {
      "cell_type": "markdown",
      "metadata": {
        "id": "fyPQyLHaehc1"
      },
      "source": [
        "To create our agent, we need two functions: INTERPRET-INPUT function, which generates an abstracted description of the current state from the percerpt and the RULE-MATCH function, which returns the first rule in the set of rules that matches the given state description."
      ]
    },
    {
      "cell_type": "code",
      "execution_count": null,
      "metadata": {
        "id": "qklfU4YDehc1"
      },
      "outputs": [],
      "source": [
        "loc_A = (0, 0)\n",
        "loc_B = (1, 0)\n",
        "\n",
        "\"\"\"We change the simpleReflexAgentProgram so that it doesn't make use of the Rule class\"\"\"\n",
        "def SimpleReflexAgentProgram():\n",
        "    \"\"\"This agent takes action based solely on the percept. [Figure 2.10]\"\"\"\n",
        "    \n",
        "    def program(percept):\n",
        "        loc, status = percept\n",
        "        return ('Suck' if status == 'Dirty' \n",
        "                else'Right' if loc == loc_A \n",
        "                            else'Left')\n",
        "    return program\n",
        "\n",
        "        \n",
        "# Create a simple reflex agent the two-state environment\n",
        "program = SimpleReflexAgentProgram()\n",
        "simple_reflex_agent = Agent(program)"
      ]
    },
    {
      "cell_type": "markdown",
      "metadata": {
        "id": "jGq6xMJZehc1"
      },
      "source": [
        "Now add the agent to the environment:"
      ]
    },
    {
      "cell_type": "code",
      "execution_count": null,
      "metadata": {
        "colab": {
          "base_uri": "https://localhost:8080/"
        },
        "id": "xI-pQdPYehc1",
        "outputId": "77d48b28-6129-4714-e84d-c35e2f4c860d"
      },
      "outputs": [
        {
          "output_type": "stream",
          "name": "stdout",
          "text": [
            "SimpleReflexVacuumAgent is located at (1, 0).\n"
          ]
        }
      ],
      "source": [
        "trivial_vacuum_env.add_thing(simple_reflex_agent)\n",
        "\n",
        "print(\"SimpleReflexVacuumAgent is located at {}.\".format(simple_reflex_agent.location))"
      ]
    },
    {
      "cell_type": "code",
      "execution_count": null,
      "metadata": {
        "colab": {
          "base_uri": "https://localhost:8080/"
        },
        "id": "DCv1fYd9ehc1",
        "outputId": "a8fb2016-34be-4507-ce8a-763881ea2ebb"
      },
      "outputs": [
        {
          "output_type": "stream",
          "name": "stdout",
          "text": [
            "State of the Environment: {(0, 0): 'Clean', (1, 0): 'Clean'}.\n",
            "SimpleReflexVacuumAgent is located at (0, 0).\n"
          ]
        }
      ],
      "source": [
        "# Run the environment\n",
        "trivial_vacuum_env.step()\n",
        "\n",
        "# Check the current state of the environment\n",
        "print(\"State of the Environment: {}.\".format(trivial_vacuum_env.status))\n",
        "\n",
        "print(\"SimpleReflexVacuumAgent is located at {}.\".format(simple_reflex_agent.location))"
      ]
    },
    {
      "cell_type": "markdown",
      "metadata": {
        "id": "XswE6mSkehc2"
      },
      "source": [
        "## Model-based reflex Agent Program\n",
        "\n",
        "A model-based reflex agent maintains some sort of **internal state** that depends on the percept history and thereby reflects at least some of the unobserved aspects of the current state. In addition to this, it also requires a **model** of the world, that is, knowledge about \"how the world works\".\n",
        "\n",
        "The schematic diagram shown in **Figure 2.11** of the book will make this more clear:\n",
        "<img src=\"files/images/model_based_reflex_agent.jpg\">"
      ]
    },
    {
      "cell_type": "markdown",
      "metadata": {
        "id": "7NvAZkcXehc2"
      },
      "source": [
        "We will now create a model-based reflex agent for the environment:"
      ]
    },
    {
      "cell_type": "code",
      "execution_count": null,
      "metadata": {
        "id": "gDcGxH1Jehc2"
      },
      "outputs": [],
      "source": [
        "# Delete the previously added simple reflex agent\n",
        "trivial_vacuum_env.delete_thing(simple_reflex_agent)"
      ]
    },
    {
      "cell_type": "markdown",
      "metadata": {
        "id": "HGnYCjy0ehc2"
      },
      "source": [
        "We need another function UPDATE-STATE which will be responsible for creating a new state description."
      ]
    },
    {
      "cell_type": "code",
      "source": [
        "def ModelBasedVacuumAgent():\n",
        "    \"\"\"An agent that keeps track of what locations are clean or dirty.\n",
        "    >>> agent = ModelBasedVacuumAgent()\n",
        "    >>> environment = TrivialVacuumEnvironment()\n",
        "    >>> environment.add_thing(agent)\n",
        "    >>> environment.run()\n",
        "    >>> environment.status == {(1,0):'Clean' , (0,0) : 'Clean'}\n",
        "    True\n",
        "    \"\"\"\n",
        "    model = {loc_A: None, loc_B: None}\n",
        "\n",
        "    def program(percept):\n",
        "        \"\"\"Same as ReflexVacuumAgent, except if everything is clean, do NoOp.\"\"\"\n",
        "        location, status = percept\n",
        "        model[location] = status  # Update the model here\n",
        "        if model[loc_A] == model[loc_B] == 'Clean':\n",
        "            return 'NoOp'\n",
        "        elif status == 'Dirty':\n",
        "            return 'Suck'\n",
        "        elif location == loc_A:\n",
        "            return 'Right'\n",
        "        elif location == loc_B:\n",
        "            return 'Left'\n",
        "\n",
        "    return Agent(program)\n"
      ],
      "metadata": {
        "id": "bkiwDRS_gYGt"
      },
      "execution_count": null,
      "outputs": []
    },
    {
      "cell_type": "code",
      "execution_count": null,
      "metadata": {
        "colab": {
          "base_uri": "https://localhost:8080/"
        },
        "id": "eFO91zIbehc3",
        "outputId": "0ad6faf4-517b-4672-b0ef-18a2d45a5245"
      },
      "outputs": [
        {
          "output_type": "stream",
          "name": "stdout",
          "text": [
            "ModelBasedVacuumAgent is located at (0, 0).\n"
          ]
        }
      ],
      "source": [
        "# TODO: Implement this function for the two-dimensional environment\n",
        "def update_state(state, action, percept, model):\n",
        "    pass\n",
        "\n",
        "# Create a model-based reflex agent\n",
        "model_based_reflex_agent = ModelBasedVacuumAgent()\n",
        "\n",
        "# Add the agent to the environment\n",
        "trivial_vacuum_env.add_thing(model_based_reflex_agent)\n",
        "\n",
        "print(\"ModelBasedVacuumAgent is located at {}.\".format(model_based_reflex_agent.location))"
      ]
    },
    {
      "cell_type": "code",
      "execution_count": null,
      "metadata": {
        "colab": {
          "base_uri": "https://localhost:8080/"
        },
        "id": "4_i94uhUehc3",
        "outputId": "a473bf06-dd14-495e-b3b5-4ab4e649ab28"
      },
      "outputs": [
        {
          "output_type": "stream",
          "name": "stdout",
          "text": [
            "State of the Environment: {(0, 0): 'Clean', (1, 0): 'Clean'}.\n",
            "ModelBasedVacuumAgent is located at (1, 0).\n"
          ]
        }
      ],
      "source": [
        "# Run the environment\n",
        "trivial_vacuum_env.step()\n",
        "\n",
        "# Check the current state of the environment\n",
        "print(\"State of the Environment: {}.\".format(trivial_vacuum_env.status))\n",
        "\n",
        "print(\"ModelBasedVacuumAgent is located at {}.\".format(model_based_reflex_agent.location))"
      ]
    }
  ],
  "metadata": {
    "kernelspec": {
      "display_name": "Python 3",
      "language": "python",
      "name": "python3"
    },
    "language_info": {
      "codemirror_mode": {
        "name": "ipython",
        "version": 3
      },
      "file_extension": ".py",
      "mimetype": "text/x-python",
      "name": "python",
      "nbconvert_exporter": "python",
      "pygments_lexer": "ipython3",
      "version": "3.6.4"
    },
    "colab": {
      "provenance": [],
      "collapsed_sections": [],
      "toc_visible": true
    }
  },
  "nbformat": 4,
  "nbformat_minor": 0
}