{
  "nbformat": 4,
  "nbformat_minor": 0,
  "metadata": {
    "kernelspec": {
      "display_name": "Python 3",
      "language": "python",
      "name": "python3"
    },
    "language_info": {
      "codemirror_mode": {
        "name": "ipython",
        "version": 3
      },
      "file_extension": ".py",
      "mimetype": "text/x-python",
      "name": "python",
      "nbconvert_exporter": "python",
      "pygments_lexer": "ipython3",
      "version": "3.6.10"
    },
    "colab": {
      "provenance": [],
      "collapsed_sections": [],
      "toc_visible": true
    }
  },
  "cells": [
    {
      "cell_type": "markdown",
      "metadata": {
        "id": "SQcxxGNOUhkf"
      },
      "source": [
        "## Project: Feed Forward Neural Network for Digits Classification"
      ]
    },
    {
      "cell_type": "markdown",
      "source": [
        "<center>\n",
        "<a href=\"http://yann.lecun.com/exdb/mnist/\">\n",
        "<img src=\"https://drive.google.com/uc?export=view&id=1Lz0yDZKj9zZdhGL1Zr9IbdEGfPzB56q0\" width=\"100%\"/>\n",
        "</a>\n",
        "<center/>\n",
        "<center> Figure. PyTorch Training Overview </center>"
      ],
      "metadata": {
        "id": "LRj3w_tTddzE"
      }
    },
    {
      "cell_type": "markdown",
      "metadata": {
        "id": "lxixdpsqDGb0"
      },
      "source": [
        "<center>\n",
        "<a href=\"http://yann.lecun.com/exdb/mnist/\">\n",
        "<img src=\"https://drive.google.com/uc?export=view&id=13JlBCTfoRd0hzkuf3txMvyU2dI9jga7_\" width=\"100%\"/>\n",
        "</a>\n",
        "<center/>\n",
        "<center> Figure. MNIST Handwritten digits dataset </center>"
      ]
    },
    {
      "cell_type": "code",
      "metadata": {
        "id": "hNUAKWHl2_19",
        "colab": {
          "base_uri": "https://localhost:8080/",
          "height": 204
        },
        "outputId": "eb149f04-95aa-428c-f97d-73731719f082"
      },
      "source": [
        "!pip install scikit-plot"
      ],
      "execution_count": null,
      "outputs": [
        {
          "output_type": "stream",
          "text": [
            "Requirement already satisfied: scikit-plot in /usr/local/lib/python3.6/dist-packages (0.3.7)\n",
            "Requirement already satisfied: scikit-learn>=0.18 in /usr/local/lib/python3.6/dist-packages (from scikit-plot) (0.22.2.post1)\n",
            "Requirement already satisfied: scipy>=0.9 in /usr/local/lib/python3.6/dist-packages (from scikit-plot) (1.4.1)\n",
            "Requirement already satisfied: joblib>=0.10 in /usr/local/lib/python3.6/dist-packages (from scikit-plot) (0.16.0)\n",
            "Requirement already satisfied: matplotlib>=1.4.0 in /usr/local/lib/python3.6/dist-packages (from scikit-plot) (3.2.2)\n",
            "Requirement already satisfied: numpy>=1.11.0 in /usr/local/lib/python3.6/dist-packages (from scikit-learn>=0.18->scikit-plot) (1.18.5)\n",
            "Requirement already satisfied: cycler>=0.10 in /usr/local/lib/python3.6/dist-packages (from matplotlib>=1.4.0->scikit-plot) (0.10.0)\n",
            "Requirement already satisfied: pyparsing!=2.0.4,!=2.1.2,!=2.1.6,>=2.0.1 in /usr/local/lib/python3.6/dist-packages (from matplotlib>=1.4.0->scikit-plot) (2.4.7)\n",
            "Requirement already satisfied: kiwisolver>=1.0.1 in /usr/local/lib/python3.6/dist-packages (from matplotlib>=1.4.0->scikit-plot) (1.2.0)\n",
            "Requirement already satisfied: python-dateutil>=2.1 in /usr/local/lib/python3.6/dist-packages (from matplotlib>=1.4.0->scikit-plot) (2.8.1)\n",
            "Requirement already satisfied: six in /usr/local/lib/python3.6/dist-packages (from cycler>=0.10->matplotlib>=1.4.0->scikit-plot) (1.15.0)\n"
          ],
          "name": "stdout"
        }
      ]
    },
    {
      "cell_type": "code",
      "metadata": {
        "id": "QGemV3_uTMH2"
      },
      "source": [
        "import time\n",
        "import numpy as np\n",
        "import torch.nn.functional as F\n",
        "import torch\n",
        "import torch.nn as nn\n",
        "import scikitplot as skplt\n",
        "import matplotlib.pyplot as plt\n",
        "import matplotlib.cm as cm\n",
        "import pandas as pd\n",
        "import os as os\n",
        "\n",
        "# import below needed torch-based libraries\n",
        "from ...\n",
        "from ...\n",
        "from ...\n",
        "from ...\n",
        "from sklearn.metrics import confusion_matrix"
      ],
      "execution_count": null,
      "outputs": []
    },
    {
      "cell_type": "markdown",
      "metadata": {
        "id": "l-oKdVaPTwU4"
      },
      "source": [
        "#### General settings"
      ]
    },
    {
      "cell_type": "code",
      "metadata": {
        "id": "nOyuHZqzTtLy"
      },
      "source": [
        "# Device\n",
        "device = ...\n",
        "\n",
        "# Hyperparameters\n",
        "random_seed = 1\n",
        "learning_rate = 0.1\n",
        "num_epochs = ... # number of epochs over which the MLP is going to be trained\n",
        "\n",
        "# Architecture\n",
        "num_features = ... # number of input features\n",
        "num_hidden_1 = ... # number of neurons in first hidden layer\n",
        "num_hidden_2 = ... # number of neurons in second hidden layer\n",
        "num_classes = ... # number of output classes\n",
        "\n",
        "dataset_dir = 'data'\n",
        "\n",
        "num_threads = 4     # Loading the dataset is using 4 CPU threads\n",
        "batch_size  = ...   # Using minibatches of 128 samples"
      ],
      "execution_count": null,
      "outputs": []
    },
    {
      "cell_type": "markdown",
      "metadata": {
        "id": "bWHSjcMXT7m-"
      },
      "source": [
        "#### Dataset"
      ]
    },
    {
      "cell_type": "markdown",
      "metadata": {
        "id": "sjDH7Uc20m4z"
      },
      "source": [
        "In this example, we will use the standard [MNIST](http://yann.lecun.com/exdb/mnist/) dataset.\n",
        "The MNIST dataset contains of handwritten digits (i.e. 0 to 9) and is used in image classification."
      ]
    },
    {
      "cell_type": "code",
      "metadata": {
        "id": "FOn0fJAWUDtk"
      },
      "source": [
        "valid_ratio = 0.2  # Going to use 80%/20% split for train/valid\n",
        "\n",
        "# Load the dataset for the training/validation sets\n",
        "# Note transforms.ToTensor() scales input images\n",
        "# to 0-1 range\n",
        "train_valid_dataset = ... # get MNIST train dataset. This datataset will later on be splitted onto training and validation dataset.\n",
        "\n",
        "# 60K images of 28x28 pixels\n",
        "\n",
        "# Split it into training and validation sets\n",
        "nb_train = int((1.0 - valid_ratio) * len(train_valid_dataset))\n",
        "nb_valid =  int(valid_ratio * len(train_valid_dataset))\n",
        "train_dataset, valid_dataset = ..."
      ],
      "execution_count": null,
      "outputs": []
    },
    {
      "cell_type": "code",
      "metadata": {
        "id": "vs2OFNF-bXJS"
      },
      "source": [
        "test_dataset = ... # get MNIST test dataset.\n",
        "# 10K images of 28x28 pixels"
      ],
      "execution_count": null,
      "outputs": []
    },
    {
      "cell_type": "markdown",
      "metadata": {
        "id": "ervjbrBn5Scw"
      },
      "source": [
        "##### Loading Dataset\n",
        "**Note**: We shuffle the loading process of `train_dataset` to make the learning process independent of data order, but the order of `test_loader` remains so as to examine whether we can handle unspecified bias order of inputs."
      ]
    },
    {
      "cell_type": "code",
      "metadata": {
        "id": "EbqAuASJT601"
      },
      "source": [
        "train_loader = ... # initialise train data loader\n",
        "\n",
        "valid_loader = ... # initialise validation data loader\n",
        "\n",
        "test_loader = ... # initialise test data loader"
      ],
      "execution_count": null,
      "outputs": []
    },
    {
      "cell_type": "code",
      "metadata": {
        "id": "rDoejvmLb0la",
        "colab": {
          "base_uri": "https://localhost:8080/",
          "height": 68
        },
        "outputId": "e98c5128-84a0-43de-a528-7f1c49797721"
      },
      "source": [
        "print(\"The train set contains {} images, in {} batches\".format(len(train_loader.dataset), len(train_loader)))\n",
        "print(\"The validation set contains {} images, in {} batches\".format(len(valid_loader.dataset), len(valid_loader)))\n",
        "print(\"The test set contains {} images, in {} batches\".format(len(test_loader.dataset), len(test_loader)))"
      ],
      "execution_count": null,
      "outputs": [
        {
          "output_type": "stream",
          "text": [
            "The train set contains 48000 images, in 375 batches\n",
            "The validation set contains 12000 images, in 94 batches\n",
            "The test set contains 10000 images, in 79 batches\n"
          ],
          "name": "stdout"
        }
      ]
    },
    {
      "cell_type": "markdown",
      "metadata": {
        "id": "nTT4cv-XEIfp"
      },
      "source": [
        "Visualize some of the training images"
      ]
    },
    {
      "cell_type": "code",
      "metadata": {
        "id": "juTLt-NNcA6_",
        "colab": {
          "base_uri": "https://localhost:8080/",
          "height": 147
        },
        "outputId": "411692bc-e875-495e-b5a3-5af401f421e8"
      },
      "source": [
        "nsamples=10\n",
        "classes_names = ['0', '1', '2', '3', '4', '5','6', '7', '8', '9']\n",
        "imgs, labels = ...\n",
        "\n",
        "fig=plt.figure(figsize=(20,5),facecolor='w')\n",
        "for i in range(nsamples):\n",
        "    ax = plt.subplot(1,nsamples, i+1)\n",
        "    plt.imshow(imgs[i, 0, :, :], vmin=0, vmax=1.0, cmap=cm.gray)\n",
        "    ax.set_title(\"{}\".format(classes_names[labels[i]]), fontsize=15)\n",
        "    ax.get_xaxis().set_visible(False)\n",
        "    ax.get_yaxis().set_visible(False)"
      ],
      "execution_count": null,
      "outputs": [
        {
          "output_type": "display_data",
          "data": {
            "image/png": "[encoded data removed]",
            "text/plain": [
              "<Figure size 1440x360 with 10 Axes>"
            ]
          },
          "metadata": {
            "tags": []
          }
        }
      ]
    },
    {
      "cell_type": "markdown",
      "metadata": {
        "id": "bDLhz4abESBN"
      },
      "source": [
        "Visualize some of the testing images"
      ]
    },
    {
      "cell_type": "code",
      "metadata": {
        "id": "dFqsEkFdENV3"
      },
      "source": [
        "nsamples=10\n",
        "classes_names = ['0', '1', '2', '3', '4', '5','6', '7', '8', '9']\n",
        "imgs, labels = ... # get some sample images and labels\n",
        "\n",
        "fig=plt.figure(figsize=(20,5),facecolor='w')\n",
        "for i in range(nsamples):\n",
        "    ax = plt.subplot(1,nsamples, i+1)\n",
        "    plt.imshow(imgs[i, 0, :, :], vmin=0, vmax=1.0, cmap=cm.gray)\n",
        "    ax.set_title(\"{}\".format(classes_names[labels[i]]), fontsize=15)\n",
        "    ax.get_xaxis().set_visible(False)\n",
        "    ax.get_yaxis().set_visible(False)"
      ],
      "execution_count": null,
      "outputs": []
    },
    {
      "cell_type": "markdown",
      "metadata": {
        "id": "Frl-PQGXETwq"
      },
      "source": [
        "Visualize some of the testing images"
      ]
    },
    {
      "cell_type": "code",
      "metadata": {
        "id": "TK--Sr8oET-T"
      },
      "source": [
        "nsamples=10\n",
        "classes_names = ['0', '1', '2', '3', '4', '5','6', '7', '8', '9']\n",
        "imgs, labels = ... # get some sample images and labels\n",
        "\n",
        "fig=plt.figure(figsize=(20,5),facecolor='w')\n",
        "for i in range(nsamples):\n",
        "    ax = plt.subplot(1,nsamples, i+1)\n",
        "    plt.imshow(imgs[i, 0, :, :], vmin=0, vmax=1.0, cmap=cm.gray)\n",
        "    ax.set_title(\"{}\".format(classes_names[labels[i]]), fontsize=15)\n",
        "    ax.get_xaxis().set_visible(False)\n",
        "    ax.get_yaxis().set_visible(False)"
      ],
      "execution_count": null,
      "outputs": []
    },
    {
      "cell_type": "markdown",
      "metadata": {
        "id": "RDfUhqZ-b7Ln"
      },
      "source": [
        "### Model\n",
        "Whenever we create a neural network in PyTorch, we have to define the `__init__()` and `forward()` methods. PyTorch will automatically generate a `backward()` method for computing the gradients for the backward pass.\n",
        "\n",
        "Our first MLP includes 1x fully-connected layers (i.e. classifier) and is a linear classifier, i.e. we perform logistic regression. As a reminder, in logistic regression, given an input image $x \\in \\mathbb{R}^{28\\times 28}$, we compute scores for each class $k$ as $w_k^T x$, that we pass through the softmax function to get probabilities over the classes :\n",
        "$$\n",
        "P(y=k / x) = \\frac{e^{w_k^T x}}{\\sum_{j=0}^{9} e^{w_j^T x}}\n",
        "$$\n",
        "\n",
        "In Pytorch, it is good practice to define class models by subclassing/inheriting from `torch.nn.Module` which provides deep learning methods. Subclassing the Module class usually consists only in redefining the `constructor (init)` and the `forward` method.\n",
        "\n",
        "In addition, note that by running the forward pass, the input images (x) go through the neural network and generate outputs (logits)."
      ]
    },
    {
      "cell_type": "code",
      "metadata": {
        "id": "51ArI9nndySE"
      },
      "source": [
        "device = ..."
      ],
      "execution_count": null,
      "outputs": []
    },
    {
      "cell_type": "markdown",
      "metadata": {
        "id": "u48jmNhq8aBU"
      },
      "source": [
        "In our MLP, we consider 2x fully-connected layers (i.e. fc1 and classifier). Note that we've a non-linear ReLU layer in between."
      ]
    },
    {
      "cell_type": "code",
      "metadata": {
        "id": "PAsD4dfoCIU0"
      },
      "source": [
        "class MLPNet(torch.nn.Module):\n",
        "    def __init__(self, input_size, num_hidden, num_classes):\n",
        "        super(MLPNet, self).__init__()\n",
        "        \n",
        "        self.num_classes = ...\n",
        "        \n",
        "        # define 1st hidden/linear layer\n",
        "        self.fc1 = ...\n",
        "\n",
        "        # define output layer\n",
        "        self.classifier = ...\n",
        "\n",
        "    def forward(self, x):\n",
        "        z1 = ...\n",
        "        a1 = ...\n",
        "\n",
        "        logits = ... #z3, pre-activation\n",
        "        probas = ... # a3, softmax\n",
        "        return ..., ... # return logits and probas"
      ],
      "execution_count": null,
      "outputs": []
    },
    {
      "cell_type": "code",
      "metadata": {
        "id": "TTB3kSLiA8qT"
      },
      "source": [
        "input_size = 1*28*28 # 784\n",
        "num_classes = 10\n",
        "num_hidden = 100"
      ],
      "execution_count": null,
      "outputs": []
    },
    {
      "cell_type": "code",
      "metadata": {
        "id": "dHa3ctV0cvDD"
      },
      "source": [
        "model = ... # initialise model here"
      ],
      "execution_count": null,
      "outputs": []
    },
    {
      "cell_type": "markdown",
      "metadata": {
        "id": "U8o-UMgcc3hA"
      },
      "source": [
        "### Loss function"
      ]
    },
    {
      "cell_type": "markdown",
      "metadata": {
        "id": "KTJdbhah9FT7"
      },
      "source": [
        "Pytorch provides the \n",
        "[torch.nn.CrossEntropyLoss()](https://pytorch.org/docs/stable/nn.html#torch.nn.CrossEntropyLoss)\n",
        "loss function that computes the softmax followed by the cross entropy.\n",
        "\n",
        "Consider a 3-class problem. Let us take\n",
        "an input, of true class y=1, being assigned the scores\n",
        "$\\hat{z} = [-100, 10, 8]$, i.e. the assigned probabilities being\n",
        "$\\hat{y} = [\\frac{\\exp(-100)}{\\sum_i \\exp(y_i)}, \\frac{\\exp(10)}{\\sum_i \\exp(y_i)}, \\frac{\\exp(8)}{\\sum_i \\exp(y_i)}] = [0.0000, 0.8808, 0.1192]$\n",
        "the cross entropy loss is given by $-\\sum_{i=0}^{3} \\log(\\hat{y}_y) = -\\log(0.8808) \\approx 0.1269$\n",
        "and is computed in Pytorch as :\n",
        "\n",
        "``` {.sourceCode .python}\n",
        "f_loss = torch.nn.CrossEntropyLoss()\n",
        "f_loss(torch.Tensor([[-100, 10, 8]]), torch.LongTensor([1]))\n",
        "# This prints :   torch.Tensor(0.1269)\n",
        "```\n",
        "\n",
        "For now, back to our experiment, we just need to instantiate the loss :\n",
        "\n",
        "``` {.sourceCode .python}\n",
        "f_loss = torch.nn.CrossEntropyLoss()\n",
        "```\n",
        "\n",
        "Alternatively, you can use the [F.nll_loss](https://pytorch.org/docs/stable/nn.functional.html#nll-loss) function and pass as parameter the result of having applied the `F.log_softmax( )` to your inputs."
      ]
    },
    {
      "cell_type": "code",
      "metadata": {
        "id": "FGo_VX5_c2R9"
      },
      "source": [
        "loss = ... # define your loss function here"
      ],
      "execution_count": null,
      "outputs": []
    },
    {
      "cell_type": "markdown",
      "metadata": {
        "id": "OpuI_bwxc-Ss"
      },
      "source": [
        "### Optimizer"
      ]
    },
    {
      "cell_type": "markdown",
      "metadata": {
        "id": "4iCsU2hA9gai"
      },
      "source": [
        "In order to update the model parameters using the computed gradients (`backward()`), we need  to define an optimizer which as its names says, it optimizes the parameters of a neural network is\n",
        "performed by some kind of gradient descent. In PyTorch there are different optimizers\n",
        "provided in the [torch.optim\n",
        "package](https://pytorch.org/docs/stable/optim.html). We will focus on the [SGD\n",
        "optimizer](https://pytorch.org/docs/stable/optim.html#torch.optim.sgd) and on the\n",
        "[Adam\n",
        "optimizer](https://pytorch.org/docs/stable/optim.html#torch.optim.Adam), which are two of the most common and stable optimizers. For that purposes, the optimizer needs a reference to the parameters that it needs\n",
        "to modify.\n",
        "\n",
        "``` \n",
        "optimizer = torch.optim.SGD(model.parameters(), lr=learning_rate)\n",
        "```\n",
        "\n",
        "```\n",
        "optimizer = torch.optim.Adam(model.parameters(), lr=learning_rate)\n",
        "```"
      ]
    },
    {
      "cell_type": "code",
      "metadata": {
        "id": "h3T--boBc-e1"
      },
      "source": [
        "optimizer = ... # define your optimizer here, e.g use SGD"
      ],
      "execution_count": null,
      "outputs": []
    },
    {
      "cell_type": "markdown",
      "metadata": {
        "id": "kccvmcZ3dI_G"
      },
      "source": [
        "#### Train"
      ]
    },
    {
      "cell_type": "markdown",
      "metadata": {
        "id": "I1lYu13I-MRr"
      },
      "source": [
        "Training a neural network involves iterating over the mini-batches of the training set and, for each mini-batch, computing the forward- and backward- propagations to provide the optimizer the gradient from which it can update the model parameters."
      ]
    },
    {
      "cell_type": "code",
      "metadata": {
        "id": "EOXkTiBWLNK1"
      },
      "source": [
        "def compute_accuracy_and_loss(model, data_loader, device):\n",
        "    \n",
        "    correct_pred, num_examples = 0, 0\n",
        "    \n",
        "    cross_entropy = 0.\n",
        "\n",
        "    for ii, (features, targets) in enumerate(data_loader):\n",
        "            \n",
        "        features = ... # [128,28,28]->[128,784], flatten features and put them on GPU's memory.\n",
        "        targets = ... # y, place labels on GPU's memory\n",
        "\n",
        "        logits, probas = ... # forward propagation, get logits and probas: z=logits, a=f(z)\n",
        "        cross_entropy += ... # compute cross-entropy loss between gt's and predictions\n",
        "\n",
        "        _, predicted_labels = torch.max(probas, 1) # y_hat=predicted_labels\n",
        "        num_examples += targets.size(0)\n",
        "\n",
        "        correct_pred += (predicted_labels == targets).sum()\n",
        "\n",
        "    return correct_pred.float()/num_examples * 100, cross_entropy/num_examples"
      ],
      "execution_count": null,
      "outputs": []
    },
    {
      "cell_type": "code",
      "metadata": {
        "id": "cIvEBk1ddKOj"
      },
      "source": [
        "def train(model, num_epochs, train_loader, valid_loader):\n",
        "  \n",
        "  minibatch_cost = []\n",
        "  train_acc_lst, valid_acc_lst = [], []\n",
        "  train_loss_lst, valid_loss_lst = [], []\n",
        "\n",
        "  best_acc = 0\n",
        "  best_loss = np.inf\n",
        "\n",
        "  start_time = time.time()\n",
        "  for epoch in range(num_epochs):\n",
        "\n",
        "      model.train()\n",
        "\n",
        "      for batch_idx, (features, targets) in enumerate(train_loader):\n",
        "          \n",
        "          features = features.view(-1, 28*28).to(device) # [128,28,28] => [128,784]\n",
        "          targets = targets.to(device) # [128]\n",
        "              \n",
        "          # forward-propagation\n",
        "          logits, probas = ...\n",
        "\n",
        "          # compute cost function\n",
        "          cost = ...\n",
        "\n",
        "          # clean gradients\n",
        "          optimizer.zero_grad()\n",
        "          \n",
        "          # compute derivatives\n",
        "          cost...\n",
        "\n",
        "          # append minibatch cost\n",
        "          minibatch_cost.append(cost.item())\n",
        "          \n",
        "          # update model parameters\n",
        "          ... # w = w - learning_rate * partial_deriv_error\n",
        "          \n",
        "          # logging results\n",
        "          if not batch_idx % 50:\n",
        "              print ('Epoch: %05d/%05d | Batch %05d/%05d | Cost: %.4f' \n",
        "                    %(epoch+1, num_epochs, batch_idx, \n",
        "                      len(train_loader), cost))\n",
        "              \n",
        "      with torch.set_grad_enabled(False):\n",
        "          train_acc, train_loss = compute_accuracy_and_loss(model, train_loader, device=device)\n",
        "          valid_acc, valid_loss = compute_accuracy_and_loss(model, valid_loader, device=device)\n",
        "\n",
        "          print('Epoch: %05d/%05d | Train cost: %.4f | Valid cost: %.4f | Train acc.: %.4f%% | Val.acc.: %.4f%%' % (\n",
        "                epoch+1, num_epochs, \n",
        "                train_loss,\n",
        "                valid_loss,\n",
        "                train_acc,\n",
        "                valid_acc))\n",
        "          \n",
        "          train_acc_lst.append(train_acc)\n",
        "          valid_acc_lst.append(valid_acc)\n",
        "          train_loss_lst.append(train_loss)\n",
        "          valid_loss_lst.append(valid_loss)\n",
        "\n",
        "          if valid_acc > best_acc:\n",
        "            best_acc = valid_acc\n",
        "            print('Better model: saving to disk.')\n",
        "            state = {\n",
        "              'model': model.state_dict(),\n",
        "              'best_acc': best_acc,\n",
        "              'epoch': epoch,\n",
        "              'optimizer': optimizer.state_dict(),\n",
        "            }\n",
        "            if not os.path.isdir('checkpoint'):\n",
        "                os.mkdir('checkpoint')\n",
        "            torch.save(state, './checkpoint/ckpt.pth')\n",
        "\n",
        "          \n",
        "      print('Time elapsed: %.2f min' % ((time.time() - start_time)/60))\n",
        "      \n",
        "  print('Total Training Time: %.2f min' % ((time.time() - start_time)/60))\n",
        "\n",
        "  return minibatch_cost, train_loss_lst, valid_loss_lst, train_acc_lst, valid_acc_lst"
      ],
      "execution_count": null,
      "outputs": []
    },
    {
      "cell_type": "code",
      "metadata": {
        "id": "OoA2JFd3dsdQ",
        "colab": {
          "base_uri": "https://localhost:8080/",
          "height": 1000
        },
        "outputId": "4edf7aa4-7556-48ea-97ba-1885e4ad142e"
      },
      "source": [
        "minibatch_cost, train_loss_lst, valid_loss_lst, train_acc_lst, valid_acc_lst = ... # train model"
      ],
      "execution_count": null,
      "outputs": [
        {
          "output_type": "stream",
          "text": [
            "Epoch: 001/010 | Batch 000/375 | Cost: 2.3019\n",
            "Epoch: 001/010 | Batch 050/375 | Cost: 0.7893\n",
            "Epoch: 001/010 | Batch 100/375 | Cost: 0.4692\n",
            "Epoch: 001/010 | Batch 150/375 | Cost: 0.4472\n",
            "Epoch: 001/010 | Batch 200/375 | Cost: 0.4581\n",
            "Epoch: 001/010 | Batch 250/375 | Cost: 0.4929\n",
            "Epoch: 001/010 | Batch 300/375 | Cost: 0.5501\n",
            "Epoch: 001/010 | Batch 350/375 | Cost: 0.4047\n",
            "Epoch: 001/010 | Train cost: 0.0033 | Valid cost: 0.0033 | Train acc.: 88.78% | Val.acc.: 89.45%\n",
            "Time elapsed: 0.16 min\n",
            "Epoch: 002/010 | Batch 000/375 | Cost: 0.4245\n",
            "Epoch: 002/010 | Batch 050/375 | Cost: 0.4172\n",
            "Epoch: 002/010 | Batch 100/375 | Cost: 0.3815\n",
            "Epoch: 002/010 | Batch 150/375 | Cost: 0.3648\n",
            "Epoch: 002/010 | Batch 200/375 | Cost: 0.3289\n",
            "Epoch: 002/010 | Batch 250/375 | Cost: 0.4786\n",
            "Epoch: 002/010 | Batch 300/375 | Cost: 0.3514\n",
            "Epoch: 002/010 | Batch 350/375 | Cost: 0.2142\n",
            "Epoch: 002/010 | Train cost: 0.0029 | Valid cost: 0.0028 | Train acc.: 89.96% | Val.acc.: 90.37%\n",
            "Time elapsed: 0.31 min\n",
            "Epoch: 003/010 | Batch 000/375 | Cost: 0.3279\n",
            "Epoch: 003/010 | Batch 050/375 | Cost: 0.5580\n",
            "Epoch: 003/010 | Batch 100/375 | Cost: 0.3688\n",
            "Epoch: 003/010 | Batch 150/375 | Cost: 0.3534\n",
            "Epoch: 003/010 | Batch 200/375 | Cost: 0.3051\n",
            "Epoch: 003/010 | Batch 250/375 | Cost: 0.3002\n",
            "Epoch: 003/010 | Batch 300/375 | Cost: 0.4670\n",
            "Epoch: 003/010 | Batch 350/375 | Cost: 0.4627\n",
            "Epoch: 003/010 | Train cost: 0.0027 | Valid cost: 0.0027 | Train acc.: 90.45% | Val.acc.: 90.78%\n",
            "Time elapsed: 0.47 min\n",
            "Epoch: 004/010 | Batch 000/375 | Cost: 0.3712\n",
            "Epoch: 004/010 | Batch 050/375 | Cost: 0.4238\n",
            "Epoch: 004/010 | Batch 100/375 | Cost: 0.4307\n",
            "Epoch: 004/010 | Batch 150/375 | Cost: 0.3769\n",
            "Epoch: 004/010 | Batch 200/375 | Cost: 0.3325\n",
            "Epoch: 004/010 | Batch 250/375 | Cost: 0.3011\n",
            "Epoch: 004/010 | Batch 300/375 | Cost: 0.3689\n",
            "Epoch: 004/010 | Batch 350/375 | Cost: 0.3727\n",
            "Epoch: 004/010 | Train cost: 0.0026 | Valid cost: 0.0025 | Train acc.: 90.82% | Val.acc.: 91.28%\n",
            "Time elapsed: 0.62 min\n",
            "Epoch: 005/010 | Batch 000/375 | Cost: 0.2783\n",
            "Epoch: 005/010 | Batch 050/375 | Cost: 0.3151\n",
            "Epoch: 005/010 | Batch 100/375 | Cost: 0.3375\n",
            "Epoch: 005/010 | Batch 150/375 | Cost: 0.2483\n",
            "Epoch: 005/010 | Batch 200/375 | Cost: 0.3831\n",
            "Epoch: 005/010 | Batch 250/375 | Cost: 0.2120\n",
            "Epoch: 005/010 | Batch 300/375 | Cost: 0.3540\n",
            "Epoch: 005/010 | Batch 350/375 | Cost: 0.3308\n",
            "Epoch: 005/010 | Train cost: 0.0025 | Valid cost: 0.0025 | Train acc.: 90.97% | Val.acc.: 91.47%\n",
            "Time elapsed: 0.78 min\n",
            "Epoch: 006/010 | Batch 000/375 | Cost: 0.3702\n",
            "Epoch: 006/010 | Batch 050/375 | Cost: 0.4510\n",
            "Epoch: 006/010 | Batch 100/375 | Cost: 0.2644\n",
            "Epoch: 006/010 | Batch 150/375 | Cost: 0.2518\n",
            "Epoch: 006/010 | Batch 200/375 | Cost: 0.2027\n",
            "Epoch: 006/010 | Batch 250/375 | Cost: 0.4009\n",
            "Epoch: 006/010 | Batch 300/375 | Cost: 0.3689\n",
            "Epoch: 006/010 | Batch 350/375 | Cost: 0.2770\n",
            "Epoch: 006/010 | Train cost: 0.0024 | Valid cost: 0.0024 | Train acc.: 91.33% | Val.acc.: 91.69%\n",
            "Time elapsed: 0.93 min\n",
            "Epoch: 007/010 | Batch 000/375 | Cost: 0.2738\n",
            "Epoch: 007/010 | Batch 050/375 | Cost: 0.3174\n",
            "Epoch: 007/010 | Batch 100/375 | Cost: 0.3633\n",
            "Epoch: 007/010 | Batch 150/375 | Cost: 0.2672\n",
            "Epoch: 007/010 | Batch 200/375 | Cost: 0.2942\n",
            "Epoch: 007/010 | Batch 250/375 | Cost: 0.3511\n",
            "Epoch: 007/010 | Batch 300/375 | Cost: 0.2958\n",
            "Epoch: 007/010 | Batch 350/375 | Cost: 0.3627\n",
            "Epoch: 007/010 | Train cost: 0.0024 | Valid cost: 0.0024 | Train acc.: 91.38% | Val.acc.: 91.83%\n",
            "Time elapsed: 1.08 min\n",
            "Epoch: 008/010 | Batch 000/375 | Cost: 0.2996\n",
            "Epoch: 008/010 | Batch 050/375 | Cost: 0.2807\n",
            "Epoch: 008/010 | Batch 100/375 | Cost: 0.3868\n",
            "Epoch: 008/010 | Batch 150/375 | Cost: 0.2763\n",
            "Epoch: 008/010 | Batch 200/375 | Cost: 0.3437\n",
            "Epoch: 008/010 | Batch 250/375 | Cost: 0.3684\n",
            "Epoch: 008/010 | Batch 300/375 | Cost: 0.2253\n",
            "Epoch: 008/010 | Batch 350/375 | Cost: 0.3672\n",
            "Epoch: 008/010 | Train cost: 0.0024 | Valid cost: 0.0024 | Train acc.: 91.55% | Val.acc.: 91.92%\n",
            "Time elapsed: 1.23 min\n",
            "Epoch: 009/010 | Batch 000/375 | Cost: 0.3320\n",
            "Epoch: 009/010 | Batch 050/375 | Cost: 0.3625\n",
            "Epoch: 009/010 | Batch 100/375 | Cost: 0.3116\n",
            "Epoch: 009/010 | Batch 150/375 | Cost: 0.3669\n",
            "Epoch: 009/010 | Batch 200/375 | Cost: 0.3017\n",
            "Epoch: 009/010 | Batch 250/375 | Cost: 0.3457\n",
            "Epoch: 009/010 | Batch 300/375 | Cost: 0.3118\n",
            "Epoch: 009/010 | Batch 350/375 | Cost: 0.1878\n",
            "Epoch: 009/010 | Train cost: 0.0023 | Valid cost: 0.0023 | Train acc.: 91.65% | Val.acc.: 92.09%\n",
            "Time elapsed: 1.39 min\n",
            "Epoch: 010/010 | Batch 000/375 | Cost: 0.2718\n",
            "Epoch: 010/010 | Batch 050/375 | Cost: 0.2553\n",
            "Epoch: 010/010 | Batch 100/375 | Cost: 0.2830\n",
            "Epoch: 010/010 | Batch 150/375 | Cost: 0.3205\n",
            "Epoch: 010/010 | Batch 200/375 | Cost: 0.2357\n",
            "Epoch: 010/010 | Batch 250/375 | Cost: 0.2563\n",
            "Epoch: 010/010 | Batch 300/375 | Cost: 0.2499\n",
            "Epoch: 010/010 | Batch 350/375 | Cost: 0.3080\n",
            "Epoch: 010/010 | Train cost: 0.0023 | Valid cost: 0.0023 | Train acc.: 91.75% | Val.acc.: 92.15%\n",
            "Time elapsed: 1.54 min\n",
            "Total Training Time: 1.54 min\n"
          ],
          "name": "stdout"
        }
      ]
    },
    {
      "cell_type": "code",
      "metadata": {
        "id": "PidZZlivIdCU",
        "colab": {
          "base_uri": "https://localhost:8080/",
          "height": 295
        },
        "outputId": "3277e735-4360-4acd-9e19-8b11583ea0ca"
      },
      "source": [
        "plt.plot(range(len(minibatch_cost)), minibatch_cost)\n",
        "plt.title('Minibatch Loss')\n",
        "plt.ylabel('Cross Entropy')\n",
        "plt.xlabel('Minibatch')\n",
        "plt.grid()\n",
        "plt.show()"
      ],
      "execution_count": null,
      "outputs": [
        {
          "output_type": "display_data",
          "data": {
            "image/png": "[encoded data removed]",
            "text/plain": [
              "<Figure size 432x288 with 1 Axes>"
            ]
          },
          "metadata": {
            "tags": [],
            "needs_background": "light"
          }
        }
      ]
    },
    {
      "cell_type": "code",
      "metadata": {
        "id": "KnySyIzjL8Gl",
        "colab": {
          "base_uri": "https://localhost:8080/",
          "height": 279
        },
        "outputId": "784863ea-f8b9-4b7e-8326-5e3702fa0529"
      },
      "source": [
        "plt.plot(range(len(train_loss_lst)), train_loss_lst, label='Training Loss')\n",
        "plt.plot(range(len(valid_loss_lst)), valid_loss_lst, label='Validation Loss')\n",
        "plt.legend(loc='upper right')\n",
        "plt.ylabel('Cross entropy')\n",
        "plt.xlabel('Epoch')\n",
        "plt.grid()\n",
        "plt.show()"
      ],
      "execution_count": null,
      "outputs": [
        {
          "output_type": "display_data",
          "data": {
            "image/png": "[encoded data removed]",
            "text/plain": [
              "<Figure size 432x288 with 1 Axes>"
            ]
          },
          "metadata": {
            "tags": [],
            "needs_background": "light"
          }
        }
      ]
    },
    {
      "cell_type": "code",
      "metadata": {
        "id": "Q6VuSTMwIibw",
        "colab": {
          "base_uri": "https://localhost:8080/",
          "height": 279
        },
        "outputId": "04865fb5-fff6-4088-8dde-b84dab3e5381"
      },
      "source": [
        "plt.plot(range(len(train_acc_lst)), train_acc_lst, label='Training Acc')\n",
        "plt.plot(range(len(valid_acc_lst)), valid_acc_lst, label='Validation Acc')\n",
        "plt.legend(loc='upper right')\n",
        "plt.ylabel('Cross entropy')\n",
        "plt.xlabel('Epoch')\n",
        "plt.grid()\n",
        "plt.show()"
      ],
      "execution_count": null,
      "outputs": [
        {
          "output_type": "display_data",
          "data": {
            "image/png": "[encoded data removed]",
            "text/plain": [
              "<Figure size 432x288 with 1 Axes>"
            ]
          },
          "metadata": {
            "tags": [],
            "needs_background": "light"
          }
        }
      ]
    },
    {
      "cell_type": "markdown",
      "metadata": {
        "id": "swhf6KbJ-iY2"
      },
      "source": [
        "Once the model has been trained, we can evaluate the model's performance on an **unseen** testing dataset. For that purposes, we are going to use the `compute_accuracy` function together with the `test_loader`."
      ]
    },
    {
      "cell_type": "code",
      "metadata": {
        "id": "cR0TNGdnfwhz",
        "colab": {
          "base_uri": "https://localhost:8080/",
          "height": 34
        },
        "outputId": "bf60d9c2-ba90-4013-ff33-a03eb3f134d5"
      },
      "source": [
        "test_acc, test_loss = ... # compute accuracy\n",
        "print('Test accuracy: %.2f%%' % (test_acc))"
      ],
      "execution_count": null,
      "outputs": [
        {
          "output_type": "stream",
          "text": [
            "Test accuracy: 91.99%\n"
          ],
          "name": "stdout"
        }
      ]
    },
    {
      "cell_type": "code",
      "metadata": {
        "id": "IrF_B7LHi7Ck"
      },
      "source": [
        "# obtain one batch of test images\n",
        "data_iter = iter(test_loader)\n",
        "images, targets = data_iter.next()"
      ],
      "execution_count": null,
      "outputs": []
    },
    {
      "cell_type": "code",
      "metadata": {
        "id": "sehDMKGNDn85"
      },
      "source": [
        "# get sample outputs\n",
        "logits, probas = ...\n",
        "\n",
        "# convert output probabilities to predicted class\n",
        "_, preds = ..."
      ],
      "execution_count": null,
      "outputs": []
    },
    {
      "cell_type": "code",
      "metadata": {
        "id": "ZjulVaX6Nw3i",
        "colab": {
          "base_uri": "https://localhost:8080/",
          "height": 119
        },
        "outputId": "49108230-8c49-4d6a-b17d-84cfcf261b33"
      },
      "source": [
        "targets"
      ],
      "execution_count": null,
      "outputs": [
        {
          "output_type": "execute_result",
          "data": {
            "text/plain": [
              "tensor([7, 2, 1, 0, 4, 1, 4, 9, 5, 9, 0, 6, 9, 0, 1, 5, 9, 7, 3, 4, 9, 6, 6, 5,\n",
              "        4, 0, 7, 4, 0, 1, 3, 1, 3, 4, 7, 2, 7, 1, 2, 1, 1, 7, 4, 2, 3, 5, 1, 2,\n",
              "        4, 4, 6, 3, 5, 5, 6, 0, 4, 1, 9, 5, 7, 8, 9, 3, 7, 4, 6, 4, 3, 0, 7, 0,\n",
              "        2, 9, 1, 7, 3, 2, 9, 7, 7, 6, 2, 7, 8, 4, 7, 3, 6, 1, 3, 6, 9, 3, 1, 4,\n",
              "        1, 7, 6, 9, 6, 0, 5, 4, 9, 9, 2, 1, 9, 4, 8, 7, 3, 9, 7, 4, 4, 4, 9, 2,\n",
              "        5, 4, 7, 6, 7, 9, 0, 5])"
            ]
          },
          "metadata": {
            "tags": []
          },
          "execution_count": 64
        }
      ]
    },
    {
      "cell_type": "code",
      "metadata": {
        "id": "anOVdO8lNy8B",
        "colab": {
          "base_uri": "https://localhost:8080/",
          "height": 119
        },
        "outputId": "3bd988fb-0321-4a03-d309-10f741a04934"
      },
      "source": [
        "preds"
      ],
      "execution_count": null,
      "outputs": [
        {
          "output_type": "execute_result",
          "data": {
            "text/plain": [
              "tensor([7, 2, 1, 0, 4, 1, 4, 9, 6, 9, 0, 6, 9, 0, 1, 5, 9, 7, 3, 4, 9, 6, 6, 5,\n",
              "        4, 0, 7, 4, 0, 1, 3, 1, 3, 6, 7, 2, 7, 1, 2, 1, 1, 7, 4, 2, 3, 5, 1, 2,\n",
              "        4, 4, 6, 3, 5, 5, 6, 0, 4, 1, 9, 5, 7, 8, 9, 2, 7, 4, 6, 4, 3, 0, 7, 0,\n",
              "        2, 9, 1, 7, 3, 7, 9, 7, 7, 6, 2, 7, 8, 4, 7, 3, 6, 1, 3, 6, 4, 3, 1, 4,\n",
              "        1, 7, 6, 9, 6, 0, 5, 4, 9, 9, 2, 1, 9, 4, 8, 7, 3, 9, 7, 4, 4, 4, 9, 2,\n",
              "        5, 4, 7, 6, 4, 9, 0, 5])"
            ]
          },
          "metadata": {
            "tags": []
          },
          "execution_count": 65
        }
      ]
    },
    {
      "cell_type": "code",
      "metadata": {
        "id": "rHy5Kcpajfyz",
        "colab": {
          "base_uri": "https://localhost:8080/",
          "height": 268
        },
        "outputId": "9d998020-4fde-48c1-f15c-bc1c26c40db0"
      },
      "source": [
        "# plot the images in the batch, along with predicted and true targets\n",
        "fig = plt.figure(figsize=(25, 4))\n",
        "for idx in np.arange(20):\n",
        "    ax = fig.add_subplot(2, 20/2, idx+1, xticks=[], yticks=[])\n",
        "    ax.imshow(np.squeeze(images[idx]), cmap='gray')\n",
        "    ax.set_title(\"{} ({})\".format(str(preds[idx].item()), str(targets[idx].item())),\n",
        "                 color=(\"green\" if preds[idx]==targets[idx] else \"red\"))"
      ],
      "execution_count": null,
      "outputs": [
        {
          "output_type": "display_data",
          "data": {
            "image/png": "[encoded data removed]",
            "text/plain": [
              "<Figure size 1800x288 with 20 Axes>"
            ]
          },
          "metadata": {
            "tags": []
          }
        }
      ]
    },
    {
      "cell_type": "code",
      "metadata": {
        "id": "GiK_l2Kt2XNQ"
      },
      "source": [
        "cm = ..."
      ],
      "execution_count": null,
      "outputs": []
    },
    {
      "cell_type": "code",
      "metadata": {
        "id": "p7Ieb35k3FJk",
        "colab": {
          "base_uri": "https://localhost:8080/",
          "height": 187
        },
        "outputId": "0766f7fb-dc06-4b3b-90d0-fbcf143dee6b"
      },
      "source": [
        "print(cm)"
      ],
      "execution_count": null,
      "outputs": [
        {
          "output_type": "stream",
          "text": [
            "[[10  0  0  0  0  0  0  0  0  0]\n",
            " [ 0 15  0  0  0  0  0  0  0  0]\n",
            " [ 0  0  9  0  0  0  0  1  0  0]\n",
            " [ 0  0  1 11  0  0  0  0  0  0]\n",
            " [ 0  0  0  0 19  0  1  0  0  0]\n",
            " [ 0  0  0  0  0  9  1  0  0  0]\n",
            " [ 0  0  0  0  0  0 12  0  0  0]\n",
            " [ 0  0  0  0  1  0  0 18  0  0]\n",
            " [ 0  0  0  0  0  0  0  0  3  0]\n",
            " [ 0  0  0  0  1  0  0  0  0 16]]\n"
          ],
          "name": "stdout"
        }
      ]
    },
    {
      "cell_type": "code",
      "metadata": {
        "id": "RaZPCt203JMo",
        "colab": {
          "base_uri": "https://localhost:8080/",
          "height": 312
        },
        "outputId": "0f536851-ff45-4ed6-8b93-b1dbd1f1eb41"
      },
      "source": [
        "skplt.metrics.plot_confusion_matrix(targets,preds, normalize=True)"
      ],
      "execution_count": null,
      "outputs": [
        {
          "output_type": "execute_result",
          "data": {
            "text/plain": [
              "<matplotlib.axes._subplots.AxesSubplot at 0x7f09339ba748>"
            ]
          },
          "metadata": {
            "tags": []
          },
          "execution_count": 69
        },
        {
          "output_type": "display_data",
          "data": {
            "image/png": "[encoded data removed]",
            "text/plain": [
              "<Figure size 432x288 with 2 Axes>"
            ]
          },
          "metadata": {
            "tags": [],
            "needs_background": "light"
          }
        }
      ]
    },
    {
      "cell_type": "markdown",
      "metadata": {
        "id": "DPWzWCAq_LXU"
      },
      "source": [
        "## Discussion"
      ]
    },
    {
      "cell_type": "markdown",
      "metadata": {
        "id": "chmQtyrEUhlE"
      },
      "source": [
        "Multilayer Perceptrons can show some limitations. To summarize some of these issues, we have:\n",
        "\n",
        "1. Training time: most of the modern neural networks need from hundreds up to thousands of iterations to reach their highest accuracy. This has been a point of criticism, specially because human learning seems to be way more efficient. \n",
        "2. Architectural decisions: finding the perfect or an efficient MLP architecture might involve performing many experiments and searching over a large size of hyperparameters. This is mainly because we are trying to solve a non-convex optimisation problem.\n",
        "3. Biological plausibility of backpropagation: there is no clear evidence that our brain learns via backpropagation, therefore, defining *biologically plausible* models is an on-going research topic.\n",
        "\n"
      ]
    }
  ]
}