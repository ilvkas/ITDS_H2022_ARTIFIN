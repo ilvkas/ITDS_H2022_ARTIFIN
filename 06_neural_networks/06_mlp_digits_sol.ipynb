{
  "nbformat": 4,
  "nbformat_minor": 0,
  "metadata": {
    "kernelspec": {
      "display_name": "Python 3",
      "language": "python",
      "name": "python3"
    },
    "language_info": {
      "codemirror_mode": {
        "name": "ipython",
        "version": 3
      },
      "file_extension": ".py",
      "mimetype": "text/x-python",
      "name": "python",
      "nbconvert_exporter": "python",
      "pygments_lexer": "ipython3",
      "version": "3.6.10"
    },
    "colab": {
      "provenance": [],
      "collapsed_sections": [],
      "toc_visible": true
    },
    "accelerator": "GPU",
    "widgets": {
      "application/vnd.jupyter.widget-state+json": {
        "a98c39aa332a4f3cbea26252e0063820": {
          "model_module": "@jupyter-widgets/controls",
          "model_name": "HBoxModel",
          "model_module_version": "1.5.0",
          "state": {
            "_view_name": "HBoxView",
            "_dom_classes": [],
            "_model_name": "HBoxModel",
            "_view_module": "@jupyter-widgets/controls",
            "_model_module_version": "1.5.0",
            "_view_count": null,
            "_view_module_version": "1.5.0",
            "box_style": "",
            "layout": "IPY_MODEL_13610648a9244bf2a3e73e3469e4a2d2",
            "_model_module": "@jupyter-widgets/controls",
            "children": [
              "IPY_MODEL_f57dba4adb2f44d0b77c8d18f30f01f6",
              "IPY_MODEL_f3d4bc5c10f347d4b34007c1935374ce",
              "IPY_MODEL_222facbf9faf425ba3d4a5187e2055be"
            ]
          }
        },
        "13610648a9244bf2a3e73e3469e4a2d2": {
          "model_module": "@jupyter-widgets/base",
          "model_name": "LayoutModel",
          "model_module_version": "1.2.0",
          "state": {
            "_view_name": "LayoutView",
            "grid_template_rows": null,
            "right": null,
            "justify_content": null,
            "_view_module": "@jupyter-widgets/base",
            "overflow": null,
            "_model_module_version": "1.2.0",
            "_view_count": null,
            "flex_flow": null,
            "width": null,
            "min_width": null,
            "border": null,
            "align_items": null,
            "bottom": null,
            "_model_module": "@jupyter-widgets/base",
            "top": null,
            "grid_column": null,
            "overflow_y": null,
            "overflow_x": null,
            "grid_auto_flow": null,
            "grid_area": null,
            "grid_template_columns": null,
            "flex": null,
            "_model_name": "LayoutModel",
            "justify_items": null,
            "grid_row": null,
            "max_height": null,
            "align_content": null,
            "visibility": null,
            "align_self": null,
            "height": null,
            "min_height": null,
            "padding": null,
            "grid_auto_rows": null,
            "grid_gap": null,
            "max_width": null,
            "order": null,
            "_view_module_version": "1.2.0",
            "grid_template_areas": null,
            "object_position": null,
            "object_fit": null,
            "grid_auto_columns": null,
            "margin": null,
            "display": null,
            "left": null
          }
        },
        "f57dba4adb2f44d0b77c8d18f30f01f6": {
          "model_module": "@jupyter-widgets/controls",
          "model_name": "HTMLModel",
          "model_module_version": "1.5.0",
          "state": {
            "_view_name": "HTMLView",
            "style": "IPY_MODEL_0736797759b043f1acec0ab3a028fcdb",
            "_dom_classes": [],
            "description": "",
            "_model_name": "HTMLModel",
            "placeholder": "​",
            "_view_module": "@jupyter-widgets/controls",
            "_model_module_version": "1.5.0",
            "value": "",
            "_view_count": null,
            "_view_module_version": "1.5.0",
            "description_tooltip": null,
            "_model_module": "@jupyter-widgets/controls",
            "layout": "IPY_MODEL_b8ce0ff636374502aa993fcca2eda3c4"
          }
        },
        "f3d4bc5c10f347d4b34007c1935374ce": {
          "model_module": "@jupyter-widgets/controls",
          "model_name": "FloatProgressModel",
          "model_module_version": "1.5.0",
          "state": {
            "_view_name": "ProgressView",
            "style": "IPY_MODEL_e48090988b9a47b193c13f7e858993f9",
            "_dom_classes": [],
            "description": "",
            "_model_name": "FloatProgressModel",
            "bar_style": "success",
            "max": 9912422,
            "_view_module": "@jupyter-widgets/controls",
            "_model_module_version": "1.5.0",
            "value": 9912422,
            "_view_count": null,
            "_view_module_version": "1.5.0",
            "orientation": "horizontal",
            "min": 0,
            "description_tooltip": null,
            "_model_module": "@jupyter-widgets/controls",
            "layout": "IPY_MODEL_3f3e84fc21604716bae9e0fa1d12dcd1"
          }
        },
        "222facbf9faf425ba3d4a5187e2055be": {
          "model_module": "@jupyter-widgets/controls",
          "model_name": "HTMLModel",
          "model_module_version": "1.5.0",
          "state": {
            "_view_name": "HTMLView",
            "style": "IPY_MODEL_11c328512230419297b3150fee6308f9",
            "_dom_classes": [],
            "description": "",
            "_model_name": "HTMLModel",
            "placeholder": "​",
            "_view_module": "@jupyter-widgets/controls",
            "_model_module_version": "1.5.0",
            "value": " 9913344/? [00:00&lt;00:00, 25618271.23it/s]",
            "_view_count": null,
            "_view_module_version": "1.5.0",
            "description_tooltip": null,
            "_model_module": "@jupyter-widgets/controls",
            "layout": "IPY_MODEL_8e6240fe17084bc7840ea7eee5784120"
          }
        },
        "0736797759b043f1acec0ab3a028fcdb": {
          "model_module": "@jupyter-widgets/controls",
          "model_name": "DescriptionStyleModel",
          "model_module_version": "1.5.0",
          "state": {
            "_view_name": "StyleView",
            "_model_name": "DescriptionStyleModel",
            "description_width": "",
            "_view_module": "@jupyter-widgets/base",
            "_model_module_version": "1.5.0",
            "_view_count": null,
            "_view_module_version": "1.2.0",
            "_model_module": "@jupyter-widgets/controls"
          }
        },
        "b8ce0ff636374502aa993fcca2eda3c4": {
          "model_module": "@jupyter-widgets/base",
          "model_name": "LayoutModel",
          "model_module_version": "1.2.0",
          "state": {
            "_view_name": "LayoutView",
            "grid_template_rows": null,
            "right": null,
            "justify_content": null,
            "_view_module": "@jupyter-widgets/base",
            "overflow": null,
            "_model_module_version": "1.2.0",
            "_view_count": null,
            "flex_flow": null,
            "width": null,
            "min_width": null,
            "border": null,
            "align_items": null,
            "bottom": null,
            "_model_module": "@jupyter-widgets/base",
            "top": null,
            "grid_column": null,
            "overflow_y": null,
            "overflow_x": null,
            "grid_auto_flow": null,
            "grid_area": null,
            "grid_template_columns": null,
            "flex": null,
            "_model_name": "LayoutModel",
            "justify_items": null,
            "grid_row": null,
            "max_height": null,
            "align_content": null,
            "visibility": null,
            "align_self": null,
            "height": null,
            "min_height": null,
            "padding": null,
            "grid_auto_rows": null,
            "grid_gap": null,
            "max_width": null,
            "order": null,
            "_view_module_version": "1.2.0",
            "grid_template_areas": null,
            "object_position": null,
            "object_fit": null,
            "grid_auto_columns": null,
            "margin": null,
            "display": null,
            "left": null
          }
        },
        "e48090988b9a47b193c13f7e858993f9": {
          "model_module": "@jupyter-widgets/controls",
          "model_name": "ProgressStyleModel",
          "model_module_version": "1.5.0",
          "state": {
            "_view_name": "StyleView",
            "_model_name": "ProgressStyleModel",
            "description_width": "",
            "_view_module": "@jupyter-widgets/base",
            "_model_module_version": "1.5.0",
            "_view_count": null,
            "_view_module_version": "1.2.0",
            "bar_color": null,
            "_model_module": "@jupyter-widgets/controls"
          }
        },
        "3f3e84fc21604716bae9e0fa1d12dcd1": {
          "model_module": "@jupyter-widgets/base",
          "model_name": "LayoutModel",
          "model_module_version": "1.2.0",
          "state": {
            "_view_name": "LayoutView",
            "grid_template_rows": null,
            "right": null,
            "justify_content": null,
            "_view_module": "@jupyter-widgets/base",
            "overflow": null,
            "_model_module_version": "1.2.0",
            "_view_count": null,
            "flex_flow": null,
            "width": null,
            "min_width": null,
            "border": null,
            "align_items": null,
            "bottom": null,
            "_model_module": "@jupyter-widgets/base",
            "top": null,
            "grid_column": null,
            "overflow_y": null,
            "overflow_x": null,
            "grid_auto_flow": null,
            "grid_area": null,
            "grid_template_columns": null,
            "flex": null,
            "_model_name": "LayoutModel",
            "justify_items": null,
            "grid_row": null,
            "max_height": null,
            "align_content": null,
            "visibility": null,
            "align_self": null,
            "height": null,
            "min_height": null,
            "padding": null,
            "grid_auto_rows": null,
            "grid_gap": null,
            "max_width": null,
            "order": null,
            "_view_module_version": "1.2.0",
            "grid_template_areas": null,
            "object_position": null,
            "object_fit": null,
            "grid_auto_columns": null,
            "margin": null,
            "display": null,
            "left": null
          }
        },
        "11c328512230419297b3150fee6308f9": {
          "model_module": "@jupyter-widgets/controls",
          "model_name": "DescriptionStyleModel",
          "model_module_version": "1.5.0",
          "state": {
            "_view_name": "StyleView",
            "_model_name": "DescriptionStyleModel",
            "description_width": "",
            "_view_module": "@jupyter-widgets/base",
            "_model_module_version": "1.5.0",
            "_view_count": null,
            "_view_module_version": "1.2.0",
            "_model_module": "@jupyter-widgets/controls"
          }
        },
        "8e6240fe17084bc7840ea7eee5784120": {
          "model_module": "@jupyter-widgets/base",
          "model_name": "LayoutModel",
          "model_module_version": "1.2.0",
          "state": {
            "_view_name": "LayoutView",
            "grid_template_rows": null,
            "right": null,
            "justify_content": null,
            "_view_module": "@jupyter-widgets/base",
            "overflow": null,
            "_model_module_version": "1.2.0",
            "_view_count": null,
            "flex_flow": null,
            "width": null,
            "min_width": null,
            "border": null,
            "align_items": null,
            "bottom": null,
            "_model_module": "@jupyter-widgets/base",
            "top": null,
            "grid_column": null,
            "overflow_y": null,
            "overflow_x": null,
            "grid_auto_flow": null,
            "grid_area": null,
            "grid_template_columns": null,
            "flex": null,
            "_model_name": "LayoutModel",
            "justify_items": null,
            "grid_row": null,
            "max_height": null,
            "align_content": null,
            "visibility": null,
            "align_self": null,
            "height": null,
            "min_height": null,
            "padding": null,
            "grid_auto_rows": null,
            "grid_gap": null,
            "max_width": null,
            "order": null,
            "_view_module_version": "1.2.0",
            "grid_template_areas": null,
            "object_position": null,
            "object_fit": null,
            "grid_auto_columns": null,
            "margin": null,
            "display": null,
            "left": null
          }
        }
      }
    }
  },
  "cells": [
    {
      "cell_type": "markdown",
      "metadata": {
        "id": "SQcxxGNOUhkf"
      },
      "source": [
        "## Project: Feed Forward Neural Network for Digits Classification"
      ]
    },
    {
      "cell_type": "markdown",
      "metadata": {
        "id": "Xv1rgdh7OHn0"
      },
      "source": [
        "<center>\n",
        "<a href=\"http://yann.lecun.com/exdb/mnist/\">\n",
        "<img src=\"https://drive.google.com/uc?export=view&id=1Lz0yDZKj9zZdhGL1Zr9IbdEGfPzB56q0\" width=\"100%\"/>\n",
        "</a>\n",
        "<center/>\n",
        "<center> Figure. PyTorch Training Overview </center>"
      ]
    },
    {
      "cell_type": "markdown",
      "metadata": {
        "id": "NBGW1qUNukFc"
      },
      "source": [
        "<center>\n",
        "<a href=\"http://yann.lecun.com/exdb/mnist/\">\n",
        "<img src=\"https://drive.google.com/uc?export=view&id=13JlBCTfoRd0hzkuf3txMvyU2dI9jga7_\" width=\"100%\"/>\n",
        "</a>\n",
        "<center/>\n",
        "<center> Figure. MNIST Handwritten digits dataset </center>"
      ]
    },
    {
      "cell_type": "code",
      "metadata": {
        "id": "hNUAKWHl2_19",
        "colab": {
          "base_uri": "https://localhost:8080/"
        },
        "outputId": "32097a57-8c24-4582-a1cb-b6e752d01f02"
      },
      "source": [
        "!pip install scikit-plot"
      ],
      "execution_count": null,
      "outputs": [
        {
          "output_type": "stream",
          "name": "stdout",
          "text": [
            "Collecting scikit-plot\n",
            "  Downloading scikit_plot-0.3.7-py3-none-any.whl (33 kB)\n",
            "Requirement already satisfied: joblib>=0.10 in /usr/local/lib/python3.7/dist-packages (from scikit-plot) (1.0.1)\n",
            "Requirement already satisfied: matplotlib>=1.4.0 in /usr/local/lib/python3.7/dist-packages (from scikit-plot) (3.2.2)\n",
            "Requirement already satisfied: scikit-learn>=0.18 in /usr/local/lib/python3.7/dist-packages (from scikit-plot) (0.22.2.post1)\n",
            "Requirement already satisfied: scipy>=0.9 in /usr/local/lib/python3.7/dist-packages (from scikit-plot) (1.4.1)\n",
            "Requirement already satisfied: pyparsing!=2.0.4,!=2.1.2,!=2.1.6,>=2.0.1 in /usr/local/lib/python3.7/dist-packages (from matplotlib>=1.4.0->scikit-plot) (2.4.7)\n",
            "Requirement already satisfied: numpy>=1.11 in /usr/local/lib/python3.7/dist-packages (from matplotlib>=1.4.0->scikit-plot) (1.19.5)\n",
            "Requirement already satisfied: python-dateutil>=2.1 in /usr/local/lib/python3.7/dist-packages (from matplotlib>=1.4.0->scikit-plot) (2.8.2)\n",
            "Requirement already satisfied: cycler>=0.10 in /usr/local/lib/python3.7/dist-packages (from matplotlib>=1.4.0->scikit-plot) (0.10.0)\n",
            "Requirement already satisfied: kiwisolver>=1.0.1 in /usr/local/lib/python3.7/dist-packages (from matplotlib>=1.4.0->scikit-plot) (1.3.2)\n",
            "Requirement already satisfied: six in /usr/local/lib/python3.7/dist-packages (from cycler>=0.10->matplotlib>=1.4.0->scikit-plot) (1.15.0)\n",
            "Installing collected packages: scikit-plot\n",
            "Successfully installed scikit-plot-0.3.7\n"
          ]
        }
      ]
    },
    {
      "cell_type": "code",
      "metadata": {
        "id": "QGemV3_uTMH2"
      },
      "source": [
        "import time\n",
        "import numpy as np\n",
        "import torch.nn.functional as F\n",
        "import torch\n",
        "import torch.nn as nn\n",
        "import scikitplot as skplt\n",
        "import matplotlib.pyplot as plt\n",
        "import matplotlib.cm as cm\n",
        "import pandas as pd\n",
        "import os as os\n",
        "\n",
        "from torchvision import datasets\n",
        "from torchvision import transforms\n",
        "from torch.utils.data import DataLoader\n",
        "from torch.utils.tensorboard import SummaryWriter\n",
        "from sklearn.metrics import confusion_matrix"
      ],
      "execution_count": null,
      "outputs": []
    },
    {
      "cell_type": "markdown",
      "metadata": {
        "id": "l-oKdVaPTwU4"
      },
      "source": [
        "#### General settings"
      ]
    },
    {
      "cell_type": "code",
      "metadata": {
        "id": "nOyuHZqzTtLy"
      },
      "source": [
        "# Device\n",
        "device = torch.device(\"cuda:0\" if torch.cuda.is_available() else \"cpu\")\n",
        "\n",
        "# Hyperparameters\n",
        "random_seed = 1\n",
        "learning_rate = 0.1\n",
        "num_epochs = 30\n",
        "\n",
        "# Architecture\n",
        "num_features = 784 # 28x28\n",
        "num_hidden_1 = 128\n",
        "num_hidden_2 = 256\n",
        "num_classes = 10\n",
        "\n",
        "dataset_dir = 'data'\n",
        "\n",
        "num_threads = 4     # Loading the dataset is using 4 CPU threads\n",
        "batch_size  = 128   # Using minibatches of 128 samples"
      ],
      "execution_count": null,
      "outputs": []
    },
    {
      "cell_type": "markdown",
      "metadata": {
        "id": "bWHSjcMXT7m-"
      },
      "source": [
        "#### Dataset"
      ]
    },
    {
      "cell_type": "markdown",
      "metadata": {
        "id": "0QUdTkyjBl2V"
      },
      "source": [
        "<center>\n",
        "<a href=\"http://yann.lecun.com/exdb/mnist/\">\n",
        "<img src=\"https://drive.google.com/uc?export=view&id=1q9-ns0mhOudvqZpGMsPszE6B2M4bCnhK\" width=\"100%\"/>\n",
        "</a>\n",
        "<center/>\n",
        "<center> Figure. MNIST Handwritten digits dataset </center>"
      ]
    },
    {
      "cell_type": "markdown",
      "metadata": {
        "id": "sjDH7Uc20m4z"
      },
      "source": [
        "In this example, we will use the standard [MNIST](http://yann.lecun.com/exdb/mnist/) dataset.\n",
        "The MNIST dataset contains of handwritten digits (i.e. 0 to 9) and is used in image classification."
      ]
    },
    {
      "cell_type": "code",
      "metadata": {
        "id": "FOn0fJAWUDtk",
        "colab": {
          "base_uri": "https://localhost:8080/",
          "height": 471,
          "referenced_widgets": [
            "a98c39aa332a4f3cbea26252e0063820",
            "13610648a9244bf2a3e73e3469e4a2d2",
            "f57dba4adb2f44d0b77c8d18f30f01f6",
            "f3d4bc5c10f347d4b34007c1935374ce",
            "222facbf9faf425ba3d4a5187e2055be",
            "0736797759b043f1acec0ab3a028fcdb",
            "b8ce0ff636374502aa993fcca2eda3c4",
            "e48090988b9a47b193c13f7e858993f9",
            "3f3e84fc21604716bae9e0fa1d12dcd1",
            "11c328512230419297b3150fee6308f9",
            "8e6240fe17084bc7840ea7eee5784120",
            "e00ba82701d24a559860892b560f90b0",
            "7e90eaa0422943b686f7f65431bd3d72",
            "24da5461283045aeb1fd7a6d9c6045c5"
          ]
        },
        "outputId": "5290ab43-9963-45a5-bdf4-5952909cf47f"
      },
      "source": [
        "valid_ratio = 0.2  # Going to use 80%/20% split for train/valid\n",
        "\n",
        "# Load the dataset for the training/validation sets\n",
        "# Note transforms.ToTensor() scales input images\n",
        "# to 0-1 range\n",
        "train_valid_dataset = datasets.MNIST(root=dataset_dir,\n",
        "                                           train=True,\n",
        "                                           transform=transforms.ToTensor(), # [0,255]->[0,1]\n",
        "                                           download=True)\n",
        "# 60K images of 28x28 pixels\n",
        "\n",
        "# Split it into training and validation sets\n",
        "nb_train = int((1.0 - valid_ratio) * len(train_valid_dataset))\n",
        "nb_valid =  int(valid_ratio * len(train_valid_dataset))\n",
        "train_dataset, valid_dataset = torch.utils.data.dataset.random_split(train_valid_dataset, [nb_train, nb_valid])"
      ],
      "execution_count": null,
      "outputs": [
        {
          "output_type": "stream",
          "name": "stdout",
          "text": [
            "Downloading http://yann.lecun.com/exdb/mnist/train-images-idx3-ubyte.gz\n",
            "Downloading http://yann.lecun.com/exdb/mnist/train-images-idx3-ubyte.gz to data/MNIST/raw/train-images-idx3-ubyte.gz\n"
          ]
        },
        {
          "output_type": "display_data",
          "data": {
            "application/vnd.jupyter.widget-view+json": {
              "model_id": "a98c39aa332a4f3cbea26252e0063820",
              "version_minor": 0,
              "version_major": 2
            },
            "text/plain": [
              "  0%|          | 0/9912422 [00:00<?, ?it/s]"
            ]
          },
          "metadata": {}
        },
        {
          "output_type": "stream",
          "name": "stdout",
          "text": [
            "Extracting data/MNIST/raw/train-images-idx3-ubyte.gz to data/MNIST/raw\n",
            "\n",
            "Downloading http://yann.lecun.com/exdb/mnist/train-labels-idx1-ubyte.gz\n",
            "Downloading http://yann.lecun.com/exdb/mnist/train-labels-idx1-ubyte.gz to data/MNIST/raw/train-labels-idx1-ubyte.gz\n"
          ]
        },
        {
          "output_type": "display_data",
          "data": {
            "application/vnd.jupyter.widget-view+json": {
              "model_id": "e00ba82701d24a559860892b560f90b0",
              "version_minor": 0,
              "version_major": 2
            },
            "text/plain": [
              "  0%|          | 0/28881 [00:00<?, ?it/s]"
            ]
          },
          "metadata": {}
        },
        {
          "output_type": "stream",
          "name": "stdout",
          "text": [
            "Extracting data/MNIST/raw/train-labels-idx1-ubyte.gz to data/MNIST/raw\n",
            "\n",
            "Downloading http://yann.lecun.com/exdb/mnist/t10k-images-idx3-ubyte.gz\n",
            "Downloading http://yann.lecun.com/exdb/mnist/t10k-images-idx3-ubyte.gz to data/MNIST/raw/t10k-images-idx3-ubyte.gz\n"
          ]
        },
        {
          "output_type": "display_data",
          "data": {
            "application/vnd.jupyter.widget-view+json": {
              "model_id": "7e90eaa0422943b686f7f65431bd3d72",
              "version_minor": 0,
              "version_major": 2
            },
            "text/plain": [
              "  0%|          | 0/1648877 [00:00<?, ?it/s]"
            ]
          },
          "metadata": {}
        },
        {
          "output_type": "stream",
          "name": "stdout",
          "text": [
            "Extracting data/MNIST/raw/t10k-images-idx3-ubyte.gz to data/MNIST/raw\n",
            "\n",
            "Downloading http://yann.lecun.com/exdb/mnist/t10k-labels-idx1-ubyte.gz\n",
            "Downloading http://yann.lecun.com/exdb/mnist/t10k-labels-idx1-ubyte.gz to data/MNIST/raw/t10k-labels-idx1-ubyte.gz\n"
          ]
        },
        {
          "output_type": "display_data",
          "data": {
            "application/vnd.jupyter.widget-view+json": {
              "model_id": "24da5461283045aeb1fd7a6d9c6045c5",
              "version_minor": 0,
              "version_major": 2
            },
            "text/plain": [
              "  0%|          | 0/4542 [00:00<?, ?it/s]"
            ]
          },
          "metadata": {}
        },
        {
          "output_type": "stream",
          "name": "stdout",
          "text": [
            "Extracting data/MNIST/raw/t10k-labels-idx1-ubyte.gz to data/MNIST/raw\n",
            "\n"
          ]
        },
        {
          "output_type": "stream",
          "name": "stderr",
          "text": [
            "/usr/local/lib/python3.7/dist-packages/torchvision/datasets/mnist.py:498: UserWarning: The given NumPy array is not writeable, and PyTorch does not support non-writeable tensors. This means you can write to the underlying (supposedly non-writeable) NumPy array using the tensor. You may want to copy the array to protect its data or make it writeable before converting it to a tensor. This type of warning will be suppressed for the rest of this program. (Triggered internally at  /pytorch/torch/csrc/utils/tensor_numpy.cpp:180.)\n",
            "  return torch.from_numpy(parsed.astype(m[2], copy=False)).view(*s)\n"
          ]
        }
      ]
    },
    {
      "cell_type": "code",
      "metadata": {
        "id": "vs2OFNF-bXJS"
      },
      "source": [
        "test_dataset = datasets.MNIST(root=dataset_dir, \n",
        "                              train=False, \n",
        "                              transform=transforms.ToTensor()) # [0,255]->[0,1]\n",
        "# 10K images of 28x28 pixels"
      ],
      "execution_count": null,
      "outputs": []
    },
    {
      "cell_type": "markdown",
      "metadata": {
        "id": "ervjbrBn5Scw"
      },
      "source": [
        "##### Loading Dataset\n",
        "**Note**: We shuffle the loading process of `train_dataset` to make the learning process independent of data order, but the order of `test_loader` remains so as to examine whether we can handle unspecified bias order of inputs."
      ]
    },
    {
      "cell_type": "code",
      "metadata": {
        "id": "EbqAuASJT601",
        "colab": {
          "base_uri": "https://localhost:8080/"
        },
        "outputId": "f62c0b04-1904-4d73-afba-97081802c5ee"
      },
      "source": [
        "train_loader = DataLoader(dataset=train_dataset, \n",
        "                          batch_size=batch_size, \n",
        "                          shuffle=True,\n",
        "                          num_workers=num_threads)\n",
        "\n",
        "valid_loader = DataLoader(dataset=valid_dataset,\n",
        "                          batch_size=batch_size, \n",
        "                          shuffle=False,\n",
        "                          num_workers=num_threads)\n",
        "\n",
        "test_loader = DataLoader(dataset=test_dataset, \n",
        "                         batch_size=batch_size, \n",
        "                         shuffle=False)"
      ],
      "execution_count": null,
      "outputs": [
        {
          "output_type": "stream",
          "name": "stderr",
          "text": [
            "/usr/local/lib/python3.7/dist-packages/torch/utils/data/dataloader.py:481: UserWarning: This DataLoader will create 4 worker processes in total. Our suggested max number of worker in current system is 2, which is smaller than what this DataLoader is going to create. Please be aware that excessive worker creation might get DataLoader running slow or even freeze, lower the worker number to avoid potential slowness/freeze if necessary.\n",
            "  cpuset_checked))\n"
          ]
        }
      ]
    },
    {
      "cell_type": "code",
      "metadata": {
        "id": "rDoejvmLb0la",
        "colab": {
          "base_uri": "https://localhost:8080/"
        },
        "outputId": "859e29b1-40b5-4635-bd81-ea932901dbf0"
      },
      "source": [
        "print(\"The train set contains {} images, in {} batches\".format(len(train_loader.dataset), len(train_loader)))\n",
        "print(\"The validation set contains {} images, in {} batches\".format(len(valid_loader.dataset), len(valid_loader)))\n",
        "print(\"The test set contains {} images, in {} batches\".format(len(test_loader.dataset), len(test_loader)))"
      ],
      "execution_count": null,
      "outputs": [
        {
          "output_type": "stream",
          "name": "stdout",
          "text": [
            "The train set contains 48000 images, in 375 batches\n",
            "The validation set contains 12000 images, in 94 batches\n",
            "The test set contains 10000 images, in 79 batches\n"
          ]
        }
      ]
    },
    {
      "cell_type": "markdown",
      "metadata": {
        "id": "nTT4cv-XEIfp"
      },
      "source": [
        "Visualize some of the training images"
      ]
    },
    {
      "cell_type": "code",
      "metadata": {
        "id": "juTLt-NNcA6_",
        "colab": {
          "base_uri": "https://localhost:8080/",
          "height": 201
        },
        "outputId": "dc625e59-d542-4155-9c17-2f44a477b3d4"
      },
      "source": [
        "nsamples = 10\n",
        "classes_names = ['0', '1', '2', '3', '4', '5','6', '7', '8', '9']\n",
        "imgs, labels = next(iter(train_loader))\n",
        "\n",
        "fig=plt.figure(figsize=(20,5),facecolor='w')\n",
        "for i in range(nsamples):\n",
        "    ax = plt.subplot(1,nsamples, i+1)\n",
        "    plt.imshow(imgs[i, 0, :, :], vmin=0, vmax=1.0, cmap=cm.gray)\n",
        "    ax.set_title(\"{}\".format(classes_names[labels[i]]), fontsize=15)\n",
        "    ax.get_xaxis().set_visible(False)\n",
        "    ax.get_yaxis().set_visible(False)"
      ],
      "execution_count": null,
      "outputs": [
        {
          "output_type": "stream",
          "name": "stderr",
          "text": [
            "/usr/local/lib/python3.7/dist-packages/torch/utils/data/dataloader.py:481: UserWarning: This DataLoader will create 4 worker processes in total. Our suggested max number of worker in current system is 2, which is smaller than what this DataLoader is going to create. Please be aware that excessive worker creation might get DataLoader running slow or even freeze, lower the worker number to avoid potential slowness/freeze if necessary.\n",
            "  cpuset_checked))\n"
          ]
        },
        {
          "output_type": "display_data",
          "data": {
            "image/png": "[encoded data removed]",
            "text/plain": [
              "<Figure size 1440x360 with 10 Axes>"
            ]
          },
          "metadata": {}
        }
      ]
    },
    {
      "cell_type": "markdown",
      "metadata": {
        "id": "bDLhz4abESBN"
      },
      "source": [
        "Visualize some of the testing images"
      ]
    },
    {
      "cell_type": "code",
      "metadata": {
        "id": "dFqsEkFdENV3",
        "colab": {
          "base_uri": "https://localhost:8080/",
          "height": 201
        },
        "outputId": "652e7a8d-b99d-4530-b131-1c13ee4a5e17"
      },
      "source": [
        "nsamples=10\n",
        "classes_names = ['0', '1', '2', '3', '4', '5','6', '7', '8', '9']\n",
        "imgs, labels = next(iter(valid_loader))\n",
        "\n",
        "fig=plt.figure(figsize=(20,5),facecolor='w')\n",
        "for i in range(nsamples):\n",
        "    ax = plt.subplot(1,nsamples, i+1)\n",
        "    plt.imshow(imgs[i, 0, :, :], vmin=0, vmax=1.0, cmap=cm.gray)\n",
        "    ax.set_title(\"{}\".format(classes_names[labels[i]]), fontsize=15)\n",
        "    ax.get_xaxis().set_visible(False)\n",
        "    ax.get_yaxis().set_visible(False)"
      ],
      "execution_count": null,
      "outputs": [
        {
          "output_type": "stream",
          "name": "stderr",
          "text": [
            "/usr/local/lib/python3.7/dist-packages/torch/utils/data/dataloader.py:481: UserWarning: This DataLoader will create 4 worker processes in total. Our suggested max number of worker in current system is 2, which is smaller than what this DataLoader is going to create. Please be aware that excessive worker creation might get DataLoader running slow or even freeze, lower the worker number to avoid potential slowness/freeze if necessary.\n",
            "  cpuset_checked))\n"
          ]
        },
        {
          "output_type": "display_data",
          "data": {
            "image/png": "[encoded data removed]",
            "text/plain": [
              "<Figure size 1440x360 with 10 Axes>"
            ]
          },
          "metadata": {}
        }
      ]
    },
    {
      "cell_type": "markdown",
      "metadata": {
        "id": "Frl-PQGXETwq"
      },
      "source": [
        "Visualize some of the testing images"
      ]
    },
    {
      "cell_type": "code",
      "metadata": {
        "id": "TK--Sr8oET-T",
        "colab": {
          "base_uri": "https://localhost:8080/",
          "height": 147
        },
        "outputId": "ab48fbc9-ba4d-457c-e99b-411cc6f57a5a"
      },
      "source": [
        "nsamples=10\n",
        "classes_names = ['0', '1', '2', '3', '4', '5','6', '7', '8', '9']\n",
        "imgs, labels = next(iter(test_loader))\n",
        "\n",
        "fig=plt.figure(figsize=(20,5),facecolor='w')\n",
        "for i in range(nsamples):\n",
        "    ax = plt.subplot(1,nsamples, i+1)\n",
        "    plt.imshow(imgs[i, 0, :, :], vmin=0, vmax=1.0, cmap=cm.gray)\n",
        "    ax.set_title(\"{}\".format(classes_names[labels[i]]), fontsize=15)\n",
        "    ax.get_xaxis().set_visible(False)\n",
        "    ax.get_yaxis().set_visible(False)"
      ],
      "execution_count": null,
      "outputs": [
        {
          "output_type": "display_data",
          "data": {
            "image/png": "[encoded data removed]",
            "text/plain": [
              "<Figure size 1440x360 with 10 Axes>"
            ]
          },
          "metadata": {}
        }
      ]
    },
    {
      "cell_type": "markdown",
      "metadata": {
        "id": "RDfUhqZ-b7Ln"
      },
      "source": [
        "### Model\n",
        "Whenever we create a neural network in PyTorch, we have to define the `__init__()` and `forward()` methods. PyTorch will automatically generate a `backward()` method for computing the gradients for the backward pass.\n",
        "\n",
        "Our first MLP includes 1x fully-connected layers (i.e. classifier) and is a linear classifier, i.e. we perform logistic regression. As a reminder, in logistic regression, given an input image $x \\in \\mathbb{R}^{28\\times 28}$, we compute scores for each class $k$ as $w_k^T x$, that we pass through the softmax function to get probabilities over the classes :\n",
        "$$\n",
        "P(y=k / x) = \\frac{e^{w_k^T x}}{\\sum_{j=0}^{9} e^{w_j^T x}}\n",
        "$$\n",
        "\n",
        "In Pytorch, it is good practice to define class models by subclassing/inheriting from `torch.nn.Module` which provides deep learning methods. Subclassing the Module class usually consists only in redefining the `constructor (init)` and the `forward` method.\n",
        "\n",
        "In addition, note that by running the forward pass, the input images (x) go through the neural network and generate outputs (logits)."
      ]
    },
    {
      "cell_type": "code",
      "metadata": {
        "id": "51ArI9nndySE",
        "colab": {
          "base_uri": "https://localhost:8080/"
        },
        "outputId": "4851c012-d218-4e23-fe8b-4463367a4175"
      },
      "source": [
        "device = torch.device(\"cuda:0\" if torch.cuda.is_available() else \"cpu\")\n",
        "print(device)"
      ],
      "execution_count": null,
      "outputs": [
        {
          "output_type": "stream",
          "name": "stdout",
          "text": [
            "cuda:0\n"
          ]
        }
      ]
    },
    {
      "cell_type": "code",
      "metadata": {
        "id": "8rukUPqEUHqk"
      },
      "source": [
        "class LinearNet(nn.Module):\n",
        "    def __init__(self, input_size, num_classes):\n",
        "        super(LinearNet, self).__init__()\n",
        "        self.input_size = input_size\n",
        "\n",
        "        # Output layer\n",
        "        self.classifier = nn.Linear(self.input_size, num_classes)\n",
        "\n",
        "    def forward(self, x):\n",
        "        logits = self.classifier(x) # pre-activation\n",
        "        #probas = F.log_softmax(logits, dim=1) # softmax\n",
        "        probas = torch.softmax(logits, dim=1)\n",
        "        return logits, probas"
      ],
      "execution_count": null,
      "outputs": []
    },
    {
      "cell_type": "markdown",
      "metadata": {
        "id": "u48jmNhq8aBU"
      },
      "source": [
        "In the second MLP, we consider 2x fully-connected layers (i.e. fc1 and classifier). Note that we've a non-linear ReLU layer in between."
      ]
    },
    {
      "cell_type": "code",
      "metadata": {
        "id": "PAsD4dfoCIU0"
      },
      "source": [
        "class LinearNet2(torch.nn.Module):\n",
        "    def __init__(self, input_size, num_hidden1, num_hidden2, num_classes):\n",
        "        super(LinearNet2, self).__init__()\n",
        "        \n",
        "        self.num_classes = num_classes\n",
        "        \n",
        "        # 1st hidden layer\n",
        "        self.fc1 = torch.nn.Linear(input_size, num_hidden1)\n",
        "\n",
        "        # 2nd hidden layer\n",
        "        self.fc2 = torch.nn.Linear(num_hidden1, num_hidden2)\n",
        "\n",
        "        # Output layer\n",
        "        self.classifier = torch.nn.Linear(num_hidden2, num_classes)\n",
        "\n",
        "    def forward(self, x):\n",
        "        z1 = self.fc1(x)\n",
        "        a1 = torch.sigmoid(z1)\n",
        "\n",
        "        z2 = self.fc2(a1)\n",
        "        a2 = torch.sigmoid(z2)\n",
        "\n",
        "        logits = self.classifier(a2) #z3, pre-activation\n",
        "        probas = torch.softmax(logits, dim=1) # a3, softmax\n",
        "        return logits, probas"
      ],
      "execution_count": null,
      "outputs": []
    },
    {
      "cell_type": "code",
      "metadata": {
        "id": "TTB3kSLiA8qT"
      },
      "source": [
        "input_size = 1*28*28 # 784\n",
        "num_classes = 10\n",
        "num_hidden1 = 50\n",
        "num_hidden2 = 50"
      ],
      "execution_count": null,
      "outputs": []
    },
    {
      "cell_type": "code",
      "metadata": {
        "id": "dHa3ctV0cvDD",
        "colab": {
          "base_uri": "https://localhost:8080/"
        },
        "outputId": "765cbe5a-6869-4345-bb8a-9b4c64ee61c5"
      },
      "source": [
        "model = LinearNet2(input_size, num_hidden1, num_hidden2, num_classes).to(device)\n",
        "print(model)"
      ],
      "execution_count": null,
      "outputs": [
        {
          "output_type": "stream",
          "name": "stdout",
          "text": [
            "LinearNet2(\n",
            "  (fc1): Linear(in_features=784, out_features=50, bias=True)\n",
            "  (fc2): Linear(in_features=50, out_features=50, bias=True)\n",
            "  (classifier): Linear(in_features=50, out_features=10, bias=True)\n",
            ")\n"
          ]
        }
      ]
    },
    {
      "cell_type": "markdown",
      "metadata": {
        "id": "U8o-UMgcc3hA"
      },
      "source": [
        "### Loss function"
      ]
    },
    {
      "cell_type": "markdown",
      "metadata": {
        "id": "KTJdbhah9FT7"
      },
      "source": [
        "Pytorch provides the \n",
        "[torch.nn.CrossEntropyLoss()](https://pytorch.org/docs/stable/nn.html#torch.nn.CrossEntropyLoss)\n",
        "loss function that computes the softmax followed by the cross entropy.\n",
        "\n",
        "Consider a 3-class problem. Let us take\n",
        "an input, of true class y=1, being assigned the scores\n",
        "$\\hat{z} = [-100, 10, 8]$, i.e. the assigned probabilities being\n",
        "$\\hat{y} = [\\frac{\\exp(-100)}{\\sum_i \\exp(y_i)}, \\frac{\\exp(10)}{\\sum_i \\exp(y_i)}, \\frac{\\exp(8)}{\\sum_i \\exp(y_i)}] = [0.0000, 0.8808, 0.1192]$\n",
        "the cross entropy loss is given by $-\\sum_{i=0}^{3} \\log(\\hat{y}_y) = -\\log(0.8808) \\approx 0.1269$\n",
        "and is computed in Pytorch as :\n",
        "\n",
        "``` {.sourceCode .python}\n",
        "f_loss = torch.nn.CrossEntropyLoss()\n",
        "f_loss(torch.Tensor([[-100, 10, 8]]), torch.LongTensor([1]))\n",
        "# This prints :   torch.Tensor(0.1269)\n",
        "```\n",
        "\n",
        "For now, back to our experiment, we just need to instantiate the loss :\n",
        "\n",
        "``` {.sourceCode .python}\n",
        "f_loss = torch.nn.CrossEntropyLoss()\n",
        "```\n",
        "\n",
        "Alternatively, you can use the [F.nll_loss](https://pytorch.org/docs/stable/nn.functional.html#nll-loss) function and pass as parameter the result of having applied the `F.log_softmax( )` to your inputs."
      ]
    },
    {
      "cell_type": "code",
      "metadata": {
        "id": "FGo_VX5_c2R9"
      },
      "source": [
        "loss = torch.nn.CrossEntropyLoss()"
      ],
      "execution_count": null,
      "outputs": []
    },
    {
      "cell_type": "markdown",
      "metadata": {
        "id": "OpuI_bwxc-Ss"
      },
      "source": [
        "### Optimizer"
      ]
    },
    {
      "cell_type": "markdown",
      "metadata": {
        "id": "4iCsU2hA9gai"
      },
      "source": [
        "In order to update the model parameters using the computed gradients (`backward()`), we need  to define an optimizer which as its names says, it optimizes the parameters of a neural network is\n",
        "performed by some kind of gradient descent. In PyTorch there are different optimizers\n",
        "provided in the [torch.optim\n",
        "package](https://pytorch.org/docs/stable/optim.html). We will focus on the [SGD\n",
        "optimizer](https://pytorch.org/docs/stable/optim.html#torch.optim.sgd) and on the\n",
        "[Adam\n",
        "optimizer](https://pytorch.org/docs/stable/optim.html#torch.optim.Adam), which are two of the most common and stable optimizers. For that purposes, the optimizer needs a reference to the parameters that it needs\n",
        "to modify.\n",
        "\n",
        "``` \n",
        "optimizer = torch.optim.SGD(model.parameters(), lr=learning_rate)\n",
        "```\n",
        "\n",
        "```\n",
        "optimizer = torch.optim.Adam(model.parameters(), lr=learning_rate)\n",
        "```"
      ]
    },
    {
      "cell_type": "code",
      "metadata": {
        "id": "h3T--boBc-e1"
      },
      "source": [
        "# new_weight = weight - learning_rate * gradient\n",
        "optimizer = torch.optim.SGD(model.parameters(), lr=learning_rate)\n",
        "#optimizer = torch.optim.Adam(model.parameters(), lr=learning_rate)"
      ],
      "execution_count": null,
      "outputs": []
    },
    {
      "cell_type": "markdown",
      "metadata": {
        "id": "kccvmcZ3dI_G"
      },
      "source": [
        "#### Train"
      ]
    },
    {
      "cell_type": "markdown",
      "metadata": {
        "id": "I1lYu13I-MRr"
      },
      "source": [
        "Training a neural network involves iterating over the mini-batches of the training set and, for each mini-batch, computing the forward- and backward- propagations to provide the optimizer the gradient from which it can update the model parameters."
      ]
    },
    {
      "cell_type": "code",
      "metadata": {
        "id": "EOXkTiBWLNK1"
      },
      "source": [
        "def compute_accuracy_and_loss(model, data_loader, device):\n",
        "    \n",
        "    correct_pred, num_examples = 0, 0\n",
        "    \n",
        "    cross_entropy = 0.\n",
        "\n",
        "    for ii, (features, targets) in enumerate(data_loader):\n",
        "            \n",
        "        features = features.view(-1, 28*28).to(device) # [128,28,28]->[128,784]\n",
        "        targets = targets.to(device) # y\n",
        "\n",
        "        logits, probas = model(features) # forward propagation z=logits, a=f(z)\n",
        "        cross_entropy += F.cross_entropy(logits, targets).item()\n",
        "        #cross_entropy += F.nll_loss(torch.log(probas), targets)\n",
        "\n",
        "        _, predicted_labels = torch.max(probas, 1) # y_hat=predicted_labels\n",
        "        num_examples += targets.size(0)\n",
        "\n",
        "        correct_pred += (predicted_labels == targets).sum()\n",
        "\n",
        "    return correct_pred.float()/num_examples * 100, cross_entropy/num_examples"
      ],
      "execution_count": null,
      "outputs": []
    },
    {
      "cell_type": "code",
      "metadata": {
        "id": "cIvEBk1ddKOj"
      },
      "source": [
        "def train(model, num_epochs, train_loader, valid_loader):\n",
        "  \n",
        "  minibatch_cost = []\n",
        "  train_acc_lst, valid_acc_lst = [], []\n",
        "  train_loss_lst, valid_loss_lst = [], []\n",
        "\n",
        "  best_acc = 0\n",
        "  best_loss = np.inf\n",
        "\n",
        "  start_time = time.time()\n",
        "  for epoch in range(num_epochs):\n",
        "\n",
        "      model.train()\n",
        "\n",
        "      for batch_idx, (features, targets) in enumerate(train_loader):\n",
        "          \n",
        "          features = features.view(-1, 28*28).to(device) # [128,28,28] => [128,784]\n",
        "          targets = targets.to(device) # [128]\n",
        "              \n",
        "          # forward-propagation\n",
        "          logits, probas = model.forward(features)\n",
        "\n",
        "          # compute cost function\n",
        "          cost = F.cross_entropy(logits, targets)\n",
        "\n",
        "          # clean gradients\n",
        "          optimizer.zero_grad()\n",
        "          \n",
        "          # compute derivatives\n",
        "          cost.backward()\n",
        "\n",
        "          # append minibatch cost\n",
        "          minibatch_cost.append(cost.item())\n",
        "          \n",
        "          # update model parameters\n",
        "          optimizer.step() # w = w - learning_rate * partial_deriv_error\n",
        "          \n",
        "          # logging results\n",
        "          if not batch_idx % 50:\n",
        "              print ('Epoch: %05d/%05d | Batch %05d/%05d | Cost: %.4f' \n",
        "                    %(epoch+1, num_epochs, batch_idx, \n",
        "                      len(train_loader), cost))\n",
        "              \n",
        "      with torch.set_grad_enabled(False):\n",
        "          train_acc, train_loss = compute_accuracy_and_loss(model, train_loader, device=device)\n",
        "          valid_acc, valid_loss = compute_accuracy_and_loss(model, valid_loader, device=device)\n",
        "\n",
        "          print('Epoch: %05d/%05d | Train cost: %.4f | Valid cost: %.4f | Train acc.: %.4f%% | Val.acc.: %.4f%%' % (\n",
        "                epoch+1, num_epochs, \n",
        "                train_loss,\n",
        "                valid_loss,\n",
        "                train_acc,\n",
        "                valid_acc))\n",
        "          \n",
        "          train_acc_lst.append(train_acc)\n",
        "          valid_acc_lst.append(valid_acc)\n",
        "          train_loss_lst.append(train_loss)\n",
        "          valid_loss_lst.append(valid_loss)\n",
        "\n",
        "          if valid_acc > best_acc:\n",
        "            best_acc = valid_acc\n",
        "            print('Better model: saving to disk.')\n",
        "            state = {\n",
        "              'model': model.state_dict(),\n",
        "              'best_acc': best_acc,\n",
        "              'epoch': epoch,\n",
        "              'optimizer': optimizer.state_dict(),\n",
        "            }\n",
        "            if not os.path.isdir('checkpoint'):\n",
        "                os.mkdir('checkpoint')\n",
        "            torch.save(state, './checkpoint/ckpt.pth')\n",
        "\n",
        "          \n",
        "      print('Time elapsed: %.2f min' % ((time.time() - start_time)/60))\n",
        "      \n",
        "  print('Total Training Time: %.2f min' % ((time.time() - start_time)/60))\n",
        "\n",
        "  return minibatch_cost, train_loss_lst, valid_loss_lst, train_acc_lst, valid_acc_lst"
      ],
      "execution_count": null,
      "outputs": []
    },
    {
      "cell_type": "code",
      "metadata": {
        "id": "OoA2JFd3dsdQ",
        "colab": {
          "base_uri": "https://localhost:8080/"
        },
        "outputId": "1bf33542-f346-4bce-d6ce-2856380471d3"
      },
      "source": [
        "minibatch_cost, train_loss_lst, valid_loss_lst, train_acc_lst, valid_acc_lst = train(model, num_epochs, train_loader, valid_loader)"
      ],
      "execution_count": null,
      "outputs": [
        {
          "output_type": "stream",
          "name": "stderr",
          "text": [
            "/usr/local/lib/python3.7/dist-packages/torch/utils/data/dataloader.py:481: UserWarning: This DataLoader will create 4 worker processes in total. Our suggested max number of worker in current system is 2, which is smaller than what this DataLoader is going to create. Please be aware that excessive worker creation might get DataLoader running slow or even freeze, lower the worker number to avoid potential slowness/freeze if necessary.\n",
            "  cpuset_checked))\n"
          ]
        },
        {
          "output_type": "stream",
          "name": "stdout",
          "text": [
            "Epoch: 00001/00030 | Batch 00000/00375 | Cost: 2.3690\n",
            "Epoch: 00001/00030 | Batch 00050/00375 | Cost: 2.3060\n",
            "Epoch: 00001/00030 | Batch 00100/00375 | Cost: 2.3045\n",
            "Epoch: 00001/00030 | Batch 00150/00375 | Cost: 2.3013\n",
            "Epoch: 00001/00030 | Batch 00200/00375 | Cost: 2.3025\n",
            "Epoch: 00001/00030 | Batch 00250/00375 | Cost: 2.2762\n",
            "Epoch: 00001/00030 | Batch 00300/00375 | Cost: 2.2752\n",
            "Epoch: 00001/00030 | Batch 00350/00375 | Cost: 2.2589\n",
            "Epoch: 00001/00030 | Train cost: 0.0177 | Valid cost: 0.0177 | Train acc.: 11.2771% | Val.acc.: 11.2750%\n",
            "Better model: saving to disk.\n",
            "Time elapsed: 0.23 min\n",
            "Epoch: 00002/00030 | Batch 00000/00375 | Cost: 2.2702\n",
            "Epoch: 00002/00030 | Batch 00050/00375 | Cost: 2.2456\n",
            "Epoch: 00002/00030 | Batch 00100/00375 | Cost: 2.2376\n",
            "Epoch: 00002/00030 | Batch 00150/00375 | Cost: 2.1938\n",
            "Epoch: 00002/00030 | Batch 00200/00375 | Cost: 2.1604\n",
            "Epoch: 00002/00030 | Batch 00250/00375 | Cost: 2.0872\n",
            "Epoch: 00002/00030 | Batch 00300/00375 | Cost: 1.9134\n",
            "Epoch: 00002/00030 | Batch 00350/00375 | Cost: 1.7575\n",
            "Epoch: 00002/00030 | Train cost: 0.0136 | Valid cost: 0.0136 | Train acc.: 46.8125% | Val.acc.: 47.7583%\n",
            "Better model: saving to disk.\n",
            "Time elapsed: 0.45 min\n",
            "Epoch: 00003/00030 | Batch 00000/00375 | Cost: 1.8020\n",
            "Epoch: 00003/00030 | Batch 00050/00375 | Cost: 1.5809\n",
            "Epoch: 00003/00030 | Batch 00100/00375 | Cost: 1.4107\n",
            "Epoch: 00003/00030 | Batch 00150/00375 | Cost: 1.4019\n",
            "Epoch: 00003/00030 | Batch 00200/00375 | Cost: 1.3701\n",
            "Epoch: 00003/00030 | Batch 00250/00375 | Cost: 1.2500\n",
            "Epoch: 00003/00030 | Batch 00300/00375 | Cost: 1.1174\n",
            "Epoch: 00003/00030 | Batch 00350/00375 | Cost: 1.0328\n",
            "Epoch: 00003/00030 | Train cost: 0.0083 | Valid cost: 0.0083 | Train acc.: 67.9708% | Val.acc.: 68.5917%\n",
            "Better model: saving to disk.\n",
            "Time elapsed: 0.67 min\n",
            "Epoch: 00004/00030 | Batch 00000/00375 | Cost: 1.1129\n",
            "Epoch: 00004/00030 | Batch 00050/00375 | Cost: 0.9601\n",
            "Epoch: 00004/00030 | Batch 00100/00375 | Cost: 0.9313\n",
            "Epoch: 00004/00030 | Batch 00150/00375 | Cost: 0.9388\n",
            "Epoch: 00004/00030 | Batch 00200/00375 | Cost: 0.8765\n",
            "Epoch: 00004/00030 | Batch 00250/00375 | Cost: 0.9561\n",
            "Epoch: 00004/00030 | Batch 00300/00375 | Cost: 0.8942\n",
            "Epoch: 00004/00030 | Batch 00350/00375 | Cost: 0.7347\n",
            "Epoch: 00004/00030 | Train cost: 0.0059 | Valid cost: 0.0059 | Train acc.: 79.1667% | Val.acc.: 79.5167%\n",
            "Better model: saving to disk.\n",
            "Time elapsed: 0.89 min\n",
            "Epoch: 00005/00030 | Batch 00000/00375 | Cost: 0.8043\n",
            "Epoch: 00005/00030 | Batch 00050/00375 | Cost: 0.7762\n",
            "Epoch: 00005/00030 | Batch 00100/00375 | Cost: 0.6449\n",
            "Epoch: 00005/00030 | Batch 00150/00375 | Cost: 0.7792\n",
            "Epoch: 00005/00030 | Batch 00200/00375 | Cost: 0.6826\n",
            "Epoch: 00005/00030 | Batch 00250/00375 | Cost: 0.5728\n",
            "Epoch: 00005/00030 | Batch 00300/00375 | Cost: 0.6008\n",
            "Epoch: 00005/00030 | Batch 00350/00375 | Cost: 0.7492\n",
            "Epoch: 00005/00030 | Train cost: 0.0046 | Valid cost: 0.0046 | Train acc.: 84.0375% | Val.acc.: 84.3167%\n",
            "Better model: saving to disk.\n",
            "Time elapsed: 1.12 min\n",
            "Epoch: 00006/00030 | Batch 00000/00375 | Cost: 0.4820\n",
            "Epoch: 00006/00030 | Batch 00050/00375 | Cost: 0.4918\n",
            "Epoch: 00006/00030 | Batch 00100/00375 | Cost: 0.5936\n",
            "Epoch: 00006/00030 | Batch 00150/00375 | Cost: 0.5864\n",
            "Epoch: 00006/00030 | Batch 00200/00375 | Cost: 0.4903\n",
            "Epoch: 00006/00030 | Batch 00250/00375 | Cost: 0.4445\n",
            "Epoch: 00006/00030 | Batch 00300/00375 | Cost: 0.5167\n",
            "Epoch: 00006/00030 | Batch 00350/00375 | Cost: 0.5288\n",
            "Epoch: 00006/00030 | Train cost: 0.0038 | Valid cost: 0.0038 | Train acc.: 86.6667% | Val.acc.: 86.6083%\n",
            "Better model: saving to disk.\n",
            "Time elapsed: 1.34 min\n",
            "Epoch: 00007/00030 | Batch 00000/00375 | Cost: 0.4041\n",
            "Epoch: 00007/00030 | Batch 00050/00375 | Cost: 0.5307\n",
            "Epoch: 00007/00030 | Batch 00100/00375 | Cost: 0.4791\n",
            "Epoch: 00007/00030 | Batch 00150/00375 | Cost: 0.6292\n",
            "Epoch: 00007/00030 | Batch 00200/00375 | Cost: 0.3805\n",
            "Epoch: 00007/00030 | Batch 00250/00375 | Cost: 0.4341\n",
            "Epoch: 00007/00030 | Batch 00300/00375 | Cost: 0.3846\n",
            "Epoch: 00007/00030 | Batch 00350/00375 | Cost: 0.4022\n",
            "Epoch: 00007/00030 | Train cost: 0.0034 | Valid cost: 0.0034 | Train acc.: 88.2208% | Val.acc.: 88.1500%\n",
            "Better model: saving to disk.\n",
            "Time elapsed: 1.57 min\n",
            "Epoch: 00008/00030 | Batch 00000/00375 | Cost: 0.4548\n",
            "Epoch: 00008/00030 | Batch 00050/00375 | Cost: 0.4306\n",
            "Epoch: 00008/00030 | Batch 00100/00375 | Cost: 0.3880\n",
            "Epoch: 00008/00030 | Batch 00150/00375 | Cost: 0.4949\n",
            "Epoch: 00008/00030 | Batch 00200/00375 | Cost: 0.4054\n",
            "Epoch: 00008/00030 | Batch 00250/00375 | Cost: 0.3442\n",
            "Epoch: 00008/00030 | Batch 00300/00375 | Cost: 0.4622\n",
            "Epoch: 00008/00030 | Batch 00350/00375 | Cost: 0.2951\n",
            "Epoch: 00008/00030 | Train cost: 0.0031 | Valid cost: 0.0031 | Train acc.: 89.1000% | Val.acc.: 89.0333%\n",
            "Better model: saving to disk.\n",
            "Time elapsed: 1.79 min\n",
            "Epoch: 00009/00030 | Batch 00000/00375 | Cost: 0.2236\n",
            "Epoch: 00009/00030 | Batch 00050/00375 | Cost: 0.4105\n",
            "Epoch: 00009/00030 | Batch 00100/00375 | Cost: 0.3011\n",
            "Epoch: 00009/00030 | Batch 00150/00375 | Cost: 0.3102\n",
            "Epoch: 00009/00030 | Batch 00200/00375 | Cost: 0.4182\n",
            "Epoch: 00009/00030 | Batch 00250/00375 | Cost: 0.2575\n",
            "Epoch: 00009/00030 | Batch 00300/00375 | Cost: 0.2310\n",
            "Epoch: 00009/00030 | Batch 00350/00375 | Cost: 0.3177\n",
            "Epoch: 00009/00030 | Train cost: 0.0029 | Valid cost: 0.0029 | Train acc.: 89.7604% | Val.acc.: 89.7333%\n",
            "Better model: saving to disk.\n",
            "Time elapsed: 2.01 min\n",
            "Epoch: 00010/00030 | Batch 00000/00375 | Cost: 0.2586\n",
            "Epoch: 00010/00030 | Batch 00050/00375 | Cost: 0.3948\n",
            "Epoch: 00010/00030 | Batch 00100/00375 | Cost: 0.5544\n",
            "Epoch: 00010/00030 | Batch 00150/00375 | Cost: 0.3029\n",
            "Epoch: 00010/00030 | Batch 00200/00375 | Cost: 0.2724\n",
            "Epoch: 00010/00030 | Batch 00250/00375 | Cost: 0.4123\n",
            "Epoch: 00010/00030 | Batch 00300/00375 | Cost: 0.2248\n",
            "Epoch: 00010/00030 | Batch 00350/00375 | Cost: 0.4149\n",
            "Epoch: 00010/00030 | Train cost: 0.0027 | Valid cost: 0.0027 | Train acc.: 90.3167% | Val.acc.: 90.3833%\n",
            "Better model: saving to disk.\n",
            "Time elapsed: 2.24 min\n",
            "Epoch: 00011/00030 | Batch 00000/00375 | Cost: 0.3440\n",
            "Epoch: 00011/00030 | Batch 00050/00375 | Cost: 0.3974\n",
            "Epoch: 00011/00030 | Batch 00100/00375 | Cost: 0.2467\n",
            "Epoch: 00011/00030 | Batch 00150/00375 | Cost: 0.3497\n",
            "Epoch: 00011/00030 | Batch 00200/00375 | Cost: 0.4007\n",
            "Epoch: 00011/00030 | Batch 00250/00375 | Cost: 0.2689\n",
            "Epoch: 00011/00030 | Batch 00300/00375 | Cost: 0.2940\n",
            "Epoch: 00011/00030 | Batch 00350/00375 | Cost: 0.3394\n",
            "Epoch: 00011/00030 | Train cost: 0.0026 | Valid cost: 0.0026 | Train acc.: 90.7833% | Val.acc.: 90.9250%\n",
            "Better model: saving to disk.\n",
            "Time elapsed: 2.46 min\n",
            "Epoch: 00012/00030 | Batch 00000/00375 | Cost: 0.3956\n",
            "Epoch: 00012/00030 | Batch 00050/00375 | Cost: 0.2444\n",
            "Epoch: 00012/00030 | Batch 00100/00375 | Cost: 0.3145\n",
            "Epoch: 00012/00030 | Batch 00150/00375 | Cost: 0.5396\n",
            "Epoch: 00012/00030 | Batch 00200/00375 | Cost: 0.2384\n",
            "Epoch: 00012/00030 | Batch 00250/00375 | Cost: 0.5271\n",
            "Epoch: 00012/00030 | Batch 00300/00375 | Cost: 0.4354\n",
            "Epoch: 00012/00030 | Batch 00350/00375 | Cost: 0.2248\n",
            "Epoch: 00012/00030 | Train cost: 0.0024 | Valid cost: 0.0024 | Train acc.: 91.1813% | Val.acc.: 91.2083%\n",
            "Better model: saving to disk.\n",
            "Time elapsed: 2.69 min\n",
            "Epoch: 00013/00030 | Batch 00000/00375 | Cost: 0.2890\n",
            "Epoch: 00013/00030 | Batch 00050/00375 | Cost: 0.3058\n",
            "Epoch: 00013/00030 | Batch 00100/00375 | Cost: 0.3459\n",
            "Epoch: 00013/00030 | Batch 00150/00375 | Cost: 0.2011\n",
            "Epoch: 00013/00030 | Batch 00200/00375 | Cost: 0.2905\n",
            "Epoch: 00013/00030 | Batch 00250/00375 | Cost: 0.2418\n",
            "Epoch: 00013/00030 | Batch 00300/00375 | Cost: 0.3855\n",
            "Epoch: 00013/00030 | Batch 00350/00375 | Cost: 0.3109\n",
            "Epoch: 00013/00030 | Train cost: 0.0023 | Valid cost: 0.0023 | Train acc.: 91.5375% | Val.acc.: 91.6667%\n",
            "Better model: saving to disk.\n",
            "Time elapsed: 2.91 min\n",
            "Epoch: 00014/00030 | Batch 00000/00375 | Cost: 0.3058\n",
            "Epoch: 00014/00030 | Batch 00050/00375 | Cost: 0.3972\n",
            "Epoch: 00014/00030 | Batch 00100/00375 | Cost: 0.3291\n",
            "Epoch: 00014/00030 | Batch 00150/00375 | Cost: 0.3296\n",
            "Epoch: 00014/00030 | Batch 00200/00375 | Cost: 0.1707\n",
            "Epoch: 00014/00030 | Batch 00250/00375 | Cost: 0.2266\n",
            "Epoch: 00014/00030 | Batch 00300/00375 | Cost: 0.2446\n",
            "Epoch: 00014/00030 | Batch 00350/00375 | Cost: 0.3709\n",
            "Epoch: 00014/00030 | Train cost: 0.0022 | Valid cost: 0.0022 | Train acc.: 91.8542% | Val.acc.: 91.9833%\n",
            "Better model: saving to disk.\n",
            "Time elapsed: 3.14 min\n",
            "Epoch: 00015/00030 | Batch 00000/00375 | Cost: 0.2222\n",
            "Epoch: 00015/00030 | Batch 00050/00375 | Cost: 0.2464\n",
            "Epoch: 00015/00030 | Batch 00100/00375 | Cost: 0.3464\n",
            "Epoch: 00015/00030 | Batch 00150/00375 | Cost: 0.2913\n",
            "Epoch: 00015/00030 | Batch 00200/00375 | Cost: 0.2128\n",
            "Epoch: 00015/00030 | Batch 00250/00375 | Cost: 0.2917\n",
            "Epoch: 00015/00030 | Batch 00300/00375 | Cost: 0.2061\n",
            "Epoch: 00015/00030 | Batch 00350/00375 | Cost: 0.2816\n",
            "Epoch: 00015/00030 | Train cost: 0.0022 | Valid cost: 0.0021 | Train acc.: 92.1375% | Val.acc.: 92.2667%\n",
            "Better model: saving to disk.\n",
            "Time elapsed: 3.36 min\n",
            "Epoch: 00016/00030 | Batch 00000/00375 | Cost: 0.2015\n",
            "Epoch: 00016/00030 | Batch 00050/00375 | Cost: 0.2582\n",
            "Epoch: 00016/00030 | Batch 00100/00375 | Cost: 0.2506\n",
            "Epoch: 00016/00030 | Batch 00150/00375 | Cost: 0.2947\n",
            "Epoch: 00016/00030 | Batch 00200/00375 | Cost: 0.3022\n",
            "Epoch: 00016/00030 | Batch 00250/00375 | Cost: 0.2144\n",
            "Epoch: 00016/00030 | Batch 00300/00375 | Cost: 0.1988\n",
            "Epoch: 00016/00030 | Batch 00350/00375 | Cost: 0.2150\n",
            "Epoch: 00016/00030 | Train cost: 0.0021 | Valid cost: 0.0021 | Train acc.: 92.4375% | Val.acc.: 92.5917%\n",
            "Better model: saving to disk.\n",
            "Time elapsed: 3.58 min\n",
            "Epoch: 00017/00030 | Batch 00000/00375 | Cost: 0.1925\n",
            "Epoch: 00017/00030 | Batch 00050/00375 | Cost: 0.2953\n",
            "Epoch: 00017/00030 | Batch 00100/00375 | Cost: 0.2990\n",
            "Epoch: 00017/00030 | Batch 00150/00375 | Cost: 0.2080\n",
            "Epoch: 00017/00030 | Batch 00200/00375 | Cost: 0.2158\n",
            "Epoch: 00017/00030 | Batch 00250/00375 | Cost: 0.3417\n",
            "Epoch: 00017/00030 | Batch 00300/00375 | Cost: 0.3930\n",
            "Epoch: 00017/00030 | Batch 00350/00375 | Cost: 0.2322\n",
            "Epoch: 00017/00030 | Train cost: 0.0020 | Valid cost: 0.0020 | Train acc.: 92.6521% | Val.acc.: 92.7333%\n",
            "Better model: saving to disk.\n",
            "Time elapsed: 3.81 min\n",
            "Epoch: 00018/00030 | Batch 00000/00375 | Cost: 0.4166\n",
            "Epoch: 00018/00030 | Batch 00050/00375 | Cost: 0.1515\n",
            "Epoch: 00018/00030 | Batch 00100/00375 | Cost: 0.2520\n",
            "Epoch: 00018/00030 | Batch 00150/00375 | Cost: 0.2164\n",
            "Epoch: 00018/00030 | Batch 00200/00375 | Cost: 0.2105\n",
            "Epoch: 00018/00030 | Batch 00250/00375 | Cost: 0.3342\n",
            "Epoch: 00018/00030 | Batch 00300/00375 | Cost: 0.1543\n",
            "Epoch: 00018/00030 | Batch 00350/00375 | Cost: 0.0996\n",
            "Epoch: 00018/00030 | Train cost: 0.0019 | Valid cost: 0.0019 | Train acc.: 92.9229% | Val.acc.: 93.0417%\n",
            "Better model: saving to disk.\n",
            "Time elapsed: 4.03 min\n",
            "Epoch: 00019/00030 | Batch 00000/00375 | Cost: 0.1388\n",
            "Epoch: 00019/00030 | Batch 00050/00375 | Cost: 0.2187\n",
            "Epoch: 00019/00030 | Batch 00100/00375 | Cost: 0.1458\n",
            "Epoch: 00019/00030 | Batch 00150/00375 | Cost: 0.3321\n",
            "Epoch: 00019/00030 | Batch 00200/00375 | Cost: 0.3169\n",
            "Epoch: 00019/00030 | Batch 00250/00375 | Cost: 0.1639\n",
            "Epoch: 00019/00030 | Batch 00300/00375 | Cost: 0.1640\n",
            "Epoch: 00019/00030 | Batch 00350/00375 | Cost: 0.3847\n",
            "Epoch: 00019/00030 | Train cost: 0.0018 | Valid cost: 0.0018 | Train acc.: 93.2083% | Val.acc.: 93.3500%\n",
            "Better model: saving to disk.\n",
            "Time elapsed: 4.26 min\n",
            "Epoch: 00020/00030 | Batch 00000/00375 | Cost: 0.2821\n",
            "Epoch: 00020/00030 | Batch 00050/00375 | Cost: 0.3371\n",
            "Epoch: 00020/00030 | Batch 00100/00375 | Cost: 0.2837\n",
            "Epoch: 00020/00030 | Batch 00150/00375 | Cost: 0.1777\n",
            "Epoch: 00020/00030 | Batch 00200/00375 | Cost: 0.2701\n",
            "Epoch: 00020/00030 | Batch 00250/00375 | Cost: 0.4037\n",
            "Epoch: 00020/00030 | Batch 00300/00375 | Cost: 0.2669\n",
            "Epoch: 00020/00030 | Batch 00350/00375 | Cost: 0.1405\n",
            "Epoch: 00020/00030 | Train cost: 0.0018 | Valid cost: 0.0018 | Train acc.: 93.4958% | Val.acc.: 93.6083%\n",
            "Better model: saving to disk.\n",
            "Time elapsed: 4.48 min\n",
            "Epoch: 00021/00030 | Batch 00000/00375 | Cost: 0.1580\n",
            "Epoch: 00021/00030 | Batch 00050/00375 | Cost: 0.2656\n",
            "Epoch: 00021/00030 | Batch 00100/00375 | Cost: 0.2414\n",
            "Epoch: 00021/00030 | Batch 00150/00375 | Cost: 0.2107\n",
            "Epoch: 00021/00030 | Batch 00200/00375 | Cost: 0.2573\n",
            "Epoch: 00021/00030 | Batch 00250/00375 | Cost: 0.0899\n",
            "Epoch: 00021/00030 | Batch 00300/00375 | Cost: 0.3722\n",
            "Epoch: 00021/00030 | Batch 00350/00375 | Cost: 0.2313\n",
            "Epoch: 00021/00030 | Train cost: 0.0017 | Valid cost: 0.0017 | Train acc.: 93.7063% | Val.acc.: 93.8083%\n",
            "Better model: saving to disk.\n",
            "Time elapsed: 4.71 min\n",
            "Epoch: 00022/00030 | Batch 00000/00375 | Cost: 0.1888\n",
            "Epoch: 00022/00030 | Batch 00050/00375 | Cost: 0.1463\n",
            "Epoch: 00022/00030 | Batch 00100/00375 | Cost: 0.1754\n",
            "Epoch: 00022/00030 | Batch 00150/00375 | Cost: 0.2183\n",
            "Epoch: 00022/00030 | Batch 00200/00375 | Cost: 0.3222\n",
            "Epoch: 00022/00030 | Batch 00250/00375 | Cost: 0.1269\n",
            "Epoch: 00022/00030 | Batch 00300/00375 | Cost: 0.1655\n",
            "Epoch: 00022/00030 | Batch 00350/00375 | Cost: 0.1595\n",
            "Epoch: 00022/00030 | Train cost: 0.0017 | Valid cost: 0.0017 | Train acc.: 93.8750% | Val.acc.: 93.8667%\n",
            "Better model: saving to disk.\n",
            "Time elapsed: 4.94 min\n",
            "Epoch: 00023/00030 | Batch 00000/00375 | Cost: 0.1855\n",
            "Epoch: 00023/00030 | Batch 00050/00375 | Cost: 0.2231\n",
            "Epoch: 00023/00030 | Batch 00100/00375 | Cost: 0.2602\n",
            "Epoch: 00023/00030 | Batch 00150/00375 | Cost: 0.1531\n",
            "Epoch: 00023/00030 | Batch 00200/00375 | Cost: 0.2614\n",
            "Epoch: 00023/00030 | Batch 00250/00375 | Cost: 0.2551\n",
            "Epoch: 00023/00030 | Batch 00300/00375 | Cost: 0.2278\n",
            "Epoch: 00023/00030 | Batch 00350/00375 | Cost: 0.1586\n",
            "Epoch: 00023/00030 | Train cost: 0.0016 | Valid cost: 0.0016 | Train acc.: 94.1271% | Val.acc.: 94.1417%\n",
            "Better model: saving to disk.\n",
            "Time elapsed: 5.17 min\n",
            "Epoch: 00024/00030 | Batch 00000/00375 | Cost: 0.2597\n",
            "Epoch: 00024/00030 | Batch 00050/00375 | Cost: 0.2323\n",
            "Epoch: 00024/00030 | Batch 00100/00375 | Cost: 0.2034\n",
            "Epoch: 00024/00030 | Batch 00150/00375 | Cost: 0.2299\n",
            "Epoch: 00024/00030 | Batch 00200/00375 | Cost: 0.2768\n",
            "Epoch: 00024/00030 | Batch 00250/00375 | Cost: 0.1783\n",
            "Epoch: 00024/00030 | Batch 00300/00375 | Cost: 0.1701\n",
            "Epoch: 00024/00030 | Batch 00350/00375 | Cost: 0.2002\n",
            "Epoch: 00024/00030 | Train cost: 0.0016 | Valid cost: 0.0016 | Train acc.: 94.2958% | Val.acc.: 94.2583%\n",
            "Better model: saving to disk.\n",
            "Time elapsed: 5.39 min\n",
            "Epoch: 00025/00030 | Batch 00000/00375 | Cost: 0.2146\n",
            "Epoch: 00025/00030 | Batch 00050/00375 | Cost: 0.2458\n",
            "Epoch: 00025/00030 | Batch 00100/00375 | Cost: 0.1180\n",
            "Epoch: 00025/00030 | Batch 00150/00375 | Cost: 0.1856\n",
            "Epoch: 00025/00030 | Batch 00200/00375 | Cost: 0.1386\n",
            "Epoch: 00025/00030 | Batch 00250/00375 | Cost: 0.1790\n",
            "Epoch: 00025/00030 | Batch 00300/00375 | Cost: 0.1542\n",
            "Epoch: 00025/00030 | Batch 00350/00375 | Cost: 0.2052\n",
            "Epoch: 00025/00030 | Train cost: 0.0015 | Valid cost: 0.0015 | Train acc.: 94.4896% | Val.acc.: 94.5833%\n",
            "Better model: saving to disk.\n",
            "Time elapsed: 5.62 min\n",
            "Epoch: 00026/00030 | Batch 00000/00375 | Cost: 0.2195\n",
            "Epoch: 00026/00030 | Batch 00050/00375 | Cost: 0.2624\n",
            "Epoch: 00026/00030 | Batch 00100/00375 | Cost: 0.1906\n",
            "Epoch: 00026/00030 | Batch 00150/00375 | Cost: 0.2222\n",
            "Epoch: 00026/00030 | Batch 00200/00375 | Cost: 0.2075\n",
            "Epoch: 00026/00030 | Batch 00250/00375 | Cost: 0.1911\n",
            "Epoch: 00026/00030 | Batch 00300/00375 | Cost: 0.2296\n",
            "Epoch: 00026/00030 | Batch 00350/00375 | Cost: 0.2941\n",
            "Epoch: 00026/00030 | Train cost: 0.0015 | Valid cost: 0.0015 | Train acc.: 94.6750% | Val.acc.: 94.6417%\n",
            "Better model: saving to disk.\n",
            "Time elapsed: 5.85 min\n",
            "Epoch: 00027/00030 | Batch 00000/00375 | Cost: 0.1512\n",
            "Epoch: 00027/00030 | Batch 00050/00375 | Cost: 0.2240\n",
            "Epoch: 00027/00030 | Batch 00100/00375 | Cost: 0.1373\n",
            "Epoch: 00027/00030 | Batch 00150/00375 | Cost: 0.2432\n",
            "Epoch: 00027/00030 | Batch 00200/00375 | Cost: 0.2713\n",
            "Epoch: 00027/00030 | Batch 00250/00375 | Cost: 0.2038\n",
            "Epoch: 00027/00030 | Batch 00300/00375 | Cost: 0.1283\n",
            "Epoch: 00027/00030 | Batch 00350/00375 | Cost: 0.1773\n",
            "Epoch: 00027/00030 | Train cost: 0.0014 | Valid cost: 0.0014 | Train acc.: 94.8104% | Val.acc.: 94.8083%\n",
            "Better model: saving to disk.\n",
            "Time elapsed: 6.07 min\n",
            "Epoch: 00028/00030 | Batch 00000/00375 | Cost: 0.1417\n",
            "Epoch: 00028/00030 | Batch 00050/00375 | Cost: 0.1407\n",
            "Epoch: 00028/00030 | Batch 00100/00375 | Cost: 0.0807\n",
            "Epoch: 00028/00030 | Batch 00150/00375 | Cost: 0.1015\n",
            "Epoch: 00028/00030 | Batch 00200/00375 | Cost: 0.1110\n",
            "Epoch: 00028/00030 | Batch 00250/00375 | Cost: 0.1463\n",
            "Epoch: 00028/00030 | Batch 00300/00375 | Cost: 0.1953\n",
            "Epoch: 00028/00030 | Batch 00350/00375 | Cost: 0.0661\n",
            "Epoch: 00028/00030 | Train cost: 0.0014 | Valid cost: 0.0014 | Train acc.: 95.0021% | Val.acc.: 95.0000%\n",
            "Better model: saving to disk.\n",
            "Time elapsed: 6.30 min\n",
            "Epoch: 00029/00030 | Batch 00000/00375 | Cost: 0.1350\n",
            "Epoch: 00029/00030 | Batch 00050/00375 | Cost: 0.2086\n",
            "Epoch: 00029/00030 | Batch 00100/00375 | Cost: 0.1294\n",
            "Epoch: 00029/00030 | Batch 00150/00375 | Cost: 0.1624\n",
            "Epoch: 00029/00030 | Batch 00200/00375 | Cost: 0.1699\n",
            "Epoch: 00029/00030 | Batch 00250/00375 | Cost: 0.1851\n",
            "Epoch: 00029/00030 | Batch 00300/00375 | Cost: 0.1003\n",
            "Epoch: 00029/00030 | Batch 00350/00375 | Cost: 0.1861\n",
            "Epoch: 00029/00030 | Train cost: 0.0013 | Valid cost: 0.0014 | Train acc.: 95.1458% | Val.acc.: 95.0667%\n",
            "Better model: saving to disk.\n",
            "Time elapsed: 6.53 min\n",
            "Epoch: 00030/00030 | Batch 00000/00375 | Cost: 0.2212\n",
            "Epoch: 00030/00030 | Batch 00050/00375 | Cost: 0.1011\n",
            "Epoch: 00030/00030 | Batch 00100/00375 | Cost: 0.1098\n",
            "Epoch: 00030/00030 | Batch 00150/00375 | Cost: 0.2074\n",
            "Epoch: 00030/00030 | Batch 00200/00375 | Cost: 0.1848\n",
            "Epoch: 00030/00030 | Batch 00250/00375 | Cost: 0.2990\n",
            "Epoch: 00030/00030 | Batch 00300/00375 | Cost: 0.2089\n",
            "Epoch: 00030/00030 | Batch 00350/00375 | Cost: 0.0833\n",
            "Epoch: 00030/00030 | Train cost: 0.0013 | Valid cost: 0.0013 | Train acc.: 95.3208% | Val.acc.: 95.2500%\n",
            "Better model: saving to disk.\n",
            "Time elapsed: 6.75 min\n",
            "Total Training Time: 6.75 min\n"
          ]
        }
      ]
    },
    {
      "cell_type": "code",
      "metadata": {
        "id": "PidZZlivIdCU",
        "colab": {
          "base_uri": "https://localhost:8080/",
          "height": 295
        },
        "outputId": "0a5485da-2543-4c27-c3d8-33044818a3f5"
      },
      "source": [
        "plt.plot(range(len(minibatch_cost)), minibatch_cost)\n",
        "plt.title('Minibatch Loss')\n",
        "plt.ylabel('Cross Entropy')\n",
        "plt.xlabel('Minibatch')\n",
        "plt.grid()\n",
        "plt.show()"
      ],
      "execution_count": null,
      "outputs": [
        {
          "output_type": "display_data",
          "data": {
            "image/png": "[encoded data removed]",
            "text/plain": [
              "<Figure size 432x288 with 1 Axes>"
            ]
          },
          "metadata": {
            "needs_background": "light"
          }
        }
      ]
    },
    {
      "cell_type": "code",
      "metadata": {
        "id": "KnySyIzjL8Gl",
        "colab": {
          "base_uri": "https://localhost:8080/",
          "height": 279
        },
        "outputId": "3d259d75-5ae3-4746-ba40-3e91b475ebbb"
      },
      "source": [
        "#plt.style.use('ggplot')\n",
        "plt.plot(range(len(train_loss_lst)), train_loss_lst, label='Training Loss')\n",
        "plt.plot(range(len(valid_loss_lst)), valid_loss_lst, label='Validation Loss')\n",
        "plt.legend(loc='upper right')\n",
        "plt.ylabel('Cross entropy')\n",
        "plt.xlabel('Epoch')\n",
        "plt.grid()\n",
        "plt.show()"
      ],
      "execution_count": null,
      "outputs": [
        {
          "output_type": "display_data",
          "data": {
            "image/png": "[encoded data removed]",
            "text/plain": [
              "<Figure size 432x288 with 1 Axes>"
            ]
          },
          "metadata": {
            "needs_background": "light"
          }
        }
      ]
    },
    {
      "cell_type": "code",
      "metadata": {
        "id": "Q6VuSTMwIibw",
        "colab": {
          "base_uri": "https://localhost:8080/",
          "height": 279
        },
        "outputId": "78a06291-644f-49ee-dd99-85a28b56c5eb"
      },
      "source": [
        "plt.plot(range(len(train_acc_lst)), train_acc_lst, label='Training Acc')\n",
        "plt.plot(range(len(valid_acc_lst)), valid_acc_lst, label='Validation Acc')\n",
        "plt.legend(loc='upper right')\n",
        "plt.ylabel('Cross entropy')\n",
        "plt.xlabel('Epoch')\n",
        "plt.grid()\n",
        "plt.show()"
      ],
      "execution_count": null,
      "outputs": [
        {
          "output_type": "display_data",
          "data": {
            "image/png": "[encoded data removed]",
            "text/plain": [
              "<Figure size 432x288 with 1 Axes>"
            ]
          },
          "metadata": {
            "needs_background": "light"
          }
        }
      ]
    },
    {
      "cell_type": "markdown",
      "metadata": {
        "id": "swhf6KbJ-iY2"
      },
      "source": [
        "Once the model has been trained, we can evaluate the model's performance on an **unseen** testing dataset. For that purposes, we are going to use the `compute_accuracy` function together with the `test_loader`."
      ]
    },
    {
      "cell_type": "code",
      "metadata": {
        "id": "cR0TNGdnfwhz",
        "colab": {
          "base_uri": "https://localhost:8080/"
        },
        "outputId": "6803ee95-24d5-41ee-c913-869b21be32e9"
      },
      "source": [
        "test_acc, test_loss = compute_accuracy_and_loss(model, test_loader, device)\n",
        "print('Test accuracy: %.2f%%' % (test_acc))"
      ],
      "execution_count": null,
      "outputs": [
        {
          "output_type": "stream",
          "name": "stdout",
          "text": [
            "Test accuracy: 94.96%\n"
          ]
        }
      ]
    },
    {
      "cell_type": "code",
      "metadata": {
        "id": "IrF_B7LHi7Ck"
      },
      "source": [
        "# obtain one batch of test images\n",
        "data_iter = iter(test_loader)\n",
        "images, targets = data_iter.next() # 128 images, 128 labels"
      ],
      "execution_count": null,
      "outputs": []
    },
    {
      "cell_type": "code",
      "metadata": {
        "id": "sehDMKGNDn85"
      },
      "source": [
        "# get sample outputs\n",
        "logits, probas = model(images.view(-1, 28*28).to(device))\n",
        "\n",
        "# convert output probabilities to predicted class\n",
        "_, preds = torch.max(probas, dim=1) # [128,10]"
      ],
      "execution_count": null,
      "outputs": []
    },
    {
      "cell_type": "code",
      "metadata": {
        "id": "ZjulVaX6Nw3i",
        "colab": {
          "base_uri": "https://localhost:8080/"
        },
        "outputId": "4e7ceafa-dcfb-42b5-acaf-4d6e1d4e31cc"
      },
      "source": [
        "print(targets)"
      ],
      "execution_count": null,
      "outputs": [
        {
          "output_type": "stream",
          "name": "stdout",
          "text": [
            "tensor([7, 2, 1, 0, 4, 1, 4, 9, 5, 9, 0, 6, 9, 0, 1, 5, 9, 7, 3, 4, 9, 6, 6, 5,\n",
            "        4, 0, 7, 4, 0, 1, 3, 1, 3, 4, 7, 2, 7, 1, 2, 1, 1, 7, 4, 2, 3, 5, 1, 2,\n",
            "        4, 4, 6, 3, 5, 5, 6, 0, 4, 1, 9, 5, 7, 8, 9, 3, 7, 4, 6, 4, 3, 0, 7, 0,\n",
            "        2, 9, 1, 7, 3, 2, 9, 7, 7, 6, 2, 7, 8, 4, 7, 3, 6, 1, 3, 6, 9, 3, 1, 4,\n",
            "        1, 7, 6, 9, 6, 0, 5, 4, 9, 9, 2, 1, 9, 4, 8, 7, 3, 9, 7, 4, 4, 4, 9, 2,\n",
            "        5, 4, 7, 6, 7, 9, 0, 5])\n"
          ]
        }
      ]
    },
    {
      "cell_type": "code",
      "metadata": {
        "id": "anOVdO8lNy8B",
        "colab": {
          "base_uri": "https://localhost:8080/"
        },
        "outputId": "d754441a-29b8-42a2-ceb1-41c32579fbd0"
      },
      "source": [
        "preds = preds.cpu()\n",
        "print(preds)"
      ],
      "execution_count": null,
      "outputs": [
        {
          "output_type": "stream",
          "name": "stdout",
          "text": [
            "tensor([7, 2, 1, 0, 4, 1, 4, 9, 6, 9, 0, 6, 9, 0, 1, 5, 9, 7, 3, 4, 9, 6, 6, 5,\n",
            "        4, 0, 7, 4, 0, 1, 3, 1, 3, 6, 7, 2, 7, 1, 2, 1, 1, 7, 4, 2, 3, 5, 1, 2,\n",
            "        4, 4, 6, 3, 5, 5, 6, 0, 4, 1, 9, 5, 7, 8, 9, 3, 7, 4, 6, 4, 3, 0, 7, 0,\n",
            "        2, 9, 1, 7, 3, 2, 9, 7, 7, 6, 2, 7, 8, 4, 7, 3, 6, 1, 3, 6, 9, 3, 1, 4,\n",
            "        1, 7, 6, 9, 6, 0, 5, 4, 9, 9, 2, 1, 9, 4, 8, 7, 3, 9, 7, 4, 4, 4, 9, 2,\n",
            "        5, 4, 7, 6, 9, 9, 0, 5])\n"
          ]
        }
      ]
    },
    {
      "cell_type": "code",
      "metadata": {
        "id": "rHy5Kcpajfyz",
        "colab": {
          "base_uri": "https://localhost:8080/",
          "height": 268
        },
        "outputId": "7a36acc0-cd98-466f-ecc2-2082a56f875e"
      },
      "source": [
        "# plot the images in the batch, along with predicted and true targets\n",
        "fig = plt.figure(figsize=(25, 4))\n",
        "for idx in np.arange(20):\n",
        "    ax = fig.add_subplot(2, 20/2, idx+1, xticks=[], yticks=[])\n",
        "    ax.imshow(np.squeeze(images[idx]), cmap='gray')\n",
        "    ax.set_title(\"{} ({})\".format(str(preds[idx].item()), str(targets[idx].item())),\n",
        "                 color=(\"green\" if preds[idx]==targets[idx] else \"red\"))"
      ],
      "execution_count": null,
      "outputs": [
        {
          "output_type": "display_data",
          "data": {
            "image/png": "[encoded data removed]",
            "text/plain": [
              "<Figure size 1800x288 with 20 Axes>"
            ]
          },
          "metadata": {}
        }
      ]
    },
    {
      "cell_type": "code",
      "metadata": {
        "id": "GiK_l2Kt2XNQ"
      },
      "source": [
        "cm = confusion_matrix(targets, preds)"
      ],
      "execution_count": null,
      "outputs": []
    },
    {
      "cell_type": "code",
      "metadata": {
        "id": "p7Ieb35k3FJk",
        "colab": {
          "base_uri": "https://localhost:8080/"
        },
        "outputId": "47aa063c-7047-4e29-ad33-065c4dc2fb7c"
      },
      "source": [
        "print(cm)"
      ],
      "execution_count": null,
      "outputs": [
        {
          "output_type": "stream",
          "name": "stdout",
          "text": [
            "[[10  0  0  0  0  0  0  0  0  0]\n",
            " [ 0 15  0  0  0  0  0  0  0  0]\n",
            " [ 0  0 10  0  0  0  0  0  0  0]\n",
            " [ 0  0  0 12  0  0  0  0  0  0]\n",
            " [ 0  0  0  0 19  0  1  0  0  0]\n",
            " [ 0  0  0  0  0  9  1  0  0  0]\n",
            " [ 0  0  0  0  0  0 12  0  0  0]\n",
            " [ 0  0  0  0  0  0  0 18  0  1]\n",
            " [ 0  0  0  0  0  0  0  0  3  0]\n",
            " [ 0  0  0  0  0  0  0  0  0 17]]\n"
          ]
        }
      ]
    },
    {
      "cell_type": "code",
      "metadata": {
        "id": "RaZPCt203JMo",
        "colab": {
          "base_uri": "https://localhost:8080/",
          "height": 312
        },
        "outputId": "fb82d5e8-e81f-4a25-e3b7-20761f52cf99"
      },
      "source": [
        "skplt.metrics.plot_confusion_matrix(targets, preds, normalize=True)"
      ],
      "execution_count": null,
      "outputs": [
        {
          "output_type": "execute_result",
          "data": {
            "text/plain": [
              "<matplotlib.axes._subplots.AxesSubplot at 0x7fe1c186db90>"
            ]
          },
          "metadata": {},
          "execution_count": 42
        },
        {
          "output_type": "display_data",
          "data": {
            "image/png": "[encoded data removed]",
            "text/plain": [
              "<Figure size 432x288 with 2 Axes>"
            ]
          },
          "metadata": {
            "needs_background": "light"
          }
        }
      ]
    },
    {
      "cell_type": "code",
      "metadata": {
        "id": "pIfduVlffQex",
        "colab": {
          "base_uri": "https://localhost:8080/",
          "height": 187
        },
        "outputId": "a6fba891-e4e6-42e0-efd3-6da136ac7623"
      },
      "source": [
        "for idx in range(len(classes_names)):\n",
        "    print('Accuracy of digit \\'%s\\' : %.2f %%' % (\n",
        "        classes_names[idx], 100 * cm[idx][idx] / np.sum(cm[idx,:])))"
      ],
      "execution_count": null,
      "outputs": [
        {
          "output_type": "stream",
          "text": [
            "Accuracy of digit '0' : 100.00 %\n",
            "Accuracy of digit '1' : 100.00 %\n",
            "Accuracy of digit '2' : 80.00 %\n",
            "Accuracy of digit '3' : 83.33 %\n",
            "Accuracy of digit '4' : 95.00 %\n",
            "Accuracy of digit '5' : 90.00 %\n",
            "Accuracy of digit '6' : 91.67 %\n",
            "Accuracy of digit '7' : 89.47 %\n",
            "Accuracy of digit '8' : 100.00 %\n",
            "Accuracy of digit '9' : 88.24 %\n"
          ],
          "name": "stdout"
        }
      ]
    },
    {
      "cell_type": "markdown",
      "metadata": {
        "id": "DPWzWCAq_LXU"
      },
      "source": [
        "## Discussion"
      ]
    },
    {
      "cell_type": "markdown",
      "metadata": {
        "id": "chmQtyrEUhlE"
      },
      "source": [
        "Multilayer Perceptrons can show some limitations. To summarize some of these issues, we have:\n",
        "\n",
        "1. Training time: most of the modern neural networks need from hundreds up to thousands of iterations to reach their highest accuracy. This has been a point of criticism, specially because human learning seems to be way more efficient. \n",
        "2. Architectural decisions: finding the perfect or an efficient MLP architecture might involve performing many experiments and searching over a large size of hyperparameters. This is mainly because we are trying to solve a non-convex optimisation problem.\n",
        "3. Biological plausibility of backpropagation: there is no clear evidence that our brain learns via backpropagation, therefore, defining *biologically plausible* models is an on-going research topic.\n",
        "\n"
      ]
    }
  ]
}